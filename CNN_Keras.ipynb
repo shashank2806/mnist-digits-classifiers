{
  "nbformat": 4,
  "nbformat_minor": 0,
  "metadata": {
    "colab": {
      "name": "CNN_Keras.ipynb",
      "version": "0.3.2",
      "provenance": [],
      "collapsed_sections": [],
      "include_colab_link": true
    },
    "kernelspec": {
      "name": "python3",
      "display_name": "Python 3"
    },
    "accelerator": "GPU"
  },
  "cells": [
    {
      "cell_type": "markdown",
      "metadata": {
        "id": "view-in-github",
        "colab_type": "text"
      },
      "source": [
        "[View in Colaboratory](https://colab.research.google.com/github/shashank2806/mnist-digits-classifiers/blob/master/CNN_Keras.ipynb)"
      ]
    },
    {
      "metadata": {
        "id": "M2N3Ly540iRH",
        "colab_type": "text"
      },
      "cell_type": "markdown",
      "source": [
        "#CNN in Keras"
      ]
    },
    {
      "metadata": {
        "id": "1XpSpmwX8Dfz",
        "colab_type": "text"
      },
      "cell_type": "markdown",
      "source": [
        "Earlier we have built linear model and CNN in native TensorFlow. In this notebook we are going to use Keras API."
      ]
    },
    {
      "metadata": {
        "id": "KRZ_jgwDCNaO",
        "colab_type": "text"
      },
      "cell_type": "markdown",
      "source": [
        "###Imports"
      ]
    },
    {
      "metadata": {
        "id": "pPsmZb3yEnyV",
        "colab_type": "code",
        "colab": {}
      },
      "cell_type": "code",
      "source": [
        "%matplotlib inline\n",
        "import matplotlib.pyplot as plt\n",
        "import tensorflow as tf\n",
        "import numpy as np\n",
        "import math"
      ],
      "execution_count": 0,
      "outputs": []
    },
    {
      "metadata": {
        "id": "1ne5iXxzEu08",
        "colab_type": "code",
        "colab": {}
      },
      "cell_type": "code",
      "source": [
        "# import keras model and layers\n",
        "from keras.models import Sequential\n",
        "from keras.layers import InputLayer, Input, Conv2D, Dense, Flatten, Reshape, MaxPooling2D, Dropout"
      ],
      "execution_count": 0,
      "outputs": []
    },
    {
      "metadata": {
        "id": "2sJeUAjVFjIq",
        "colab_type": "code",
        "colab": {
          "base_uri": "https://localhost:8080/",
          "height": 104
        },
        "outputId": "088c8432-2e56-4b72-ad3d-9c3456161d2b"
      },
      "cell_type": "code",
      "source": [
        "# workaround for google colab\n",
        "import os\n",
        "work_dir = \"/content/mnist-digits-classifiers/\" \n",
        "if os.getcwd() != work_dir:\n",
        "  !git clone https://github.com/shashank2806/mnist-digits-classifiers\n",
        "os.chdir(work_dir)"
      ],
      "execution_count": 6,
      "outputs": [
        {
          "output_type": "stream",
          "text": [
            "Cloning into 'mnist-digits-classifiers'...\n",
            "remote: Counting objects: 67, done.\u001b[K\n",
            "remote: Compressing objects: 100% (65/65), done.\u001b[K\n",
            "remote: Total 67 (delta 36), reused 5 (delta 0), pack-reused 0\u001b[K\n",
            "Unpacking objects: 100% (67/67), done.\n"
          ],
          "name": "stdout"
        }
      ]
    },
    {
      "metadata": {
        "id": "V63S8YsNGJ11",
        "colab_type": "code",
        "colab": {
          "base_uri": "https://localhost:8080/",
          "height": 34
        },
        "outputId": "f6669f8c-5990-470a-e305-07f2fb6bff80"
      },
      "cell_type": "code",
      "source": [
        "# tensorflow version\n",
        "tf.__version__"
      ],
      "execution_count": 8,
      "outputs": [
        {
          "output_type": "execute_result",
          "data": {
            "text/plain": [
              "'1.10.1'"
            ]
          },
          "metadata": {
            "tags": []
          },
          "execution_count": 8
        }
      ]
    },
    {
      "metadata": {
        "id": "5NDTD34KGS1Z",
        "colab_type": "text"
      },
      "cell_type": "markdown",
      "source": [
        "###Load data"
      ]
    },
    {
      "metadata": {
        "id": "c5TkHIGPGYDn",
        "colab_type": "text"
      },
      "cell_type": "markdown",
      "source": [
        "We are using MNIST dataset which is about 12 MB"
      ]
    },
    {
      "metadata": {
        "id": "HytSc9a8Gnm2",
        "colab_type": "code",
        "colab": {}
      },
      "cell_type": "code",
      "source": [
        "# Download MNIST data-set\n",
        "from mnist import MNIST\n",
        "data = MNIST(data_dir=\"data/MNIST/\")"
      ],
      "execution_count": 0,
      "outputs": []
    },
    {
      "metadata": {
        "id": "qcD3kDfwGszp",
        "colab_type": "text"
      },
      "cell_type": "markdown",
      "source": [
        "###Visualsize data"
      ]
    },
    {
      "metadata": {
        "id": "8nzpigRLG3Y4",
        "colab_type": "code",
        "colab": {
          "base_uri": "https://localhost:8080/",
          "height": 86
        },
        "outputId": "37d5a604-0c71-47c2-d191-404926867ed7"
      },
      "cell_type": "code",
      "source": [
        "print(\"Size of:\")\n",
        "print(\"- Training-set:\\t\\t{}\".format(data.num_train))\n",
        "print(\"- Validation-set:\\t{}\".format(data.num_val))\n",
        "print(\"- Test-set:\\t\\t{}\".format(data.num_test))"
      ],
      "execution_count": 14,
      "outputs": [
        {
          "output_type": "stream",
          "text": [
            "Size of:\n",
            "- Training-set:\t\t55000\n",
            "- Validation-set:\t5000\n",
            "- Test-set:\t\t10000\n"
          ],
          "name": "stdout"
        }
      ]
    },
    {
      "metadata": {
        "id": "12Hi2lfAG6Yz",
        "colab_type": "code",
        "colab": {
          "base_uri": "https://localhost:8080/",
          "height": 34
        },
        "outputId": "e147fe33-885c-4231-94cc-c7fa0c9d1e5b"
      },
      "cell_type": "code",
      "source": [
        "# The number of pixels in each dimension of an image.\n",
        "img_size = data.img_size\n",
        "\n",
        "# The images are stored in one-dimensional arrays of this length.\n",
        "img_size_flat = data.img_size_flat\n",
        "\n",
        "# Tuple with height and width of images used to reshape arrays.\n",
        "img_shape = data.img_shape\n",
        "\n",
        "# Tuple with height, width and depth used to reshape arrays.\n",
        "# This is used for reshaping in Keras.\n",
        "img_shape_full = data.img_shape_full\n",
        "\n",
        "# Number of classes, one class for each of 10 digits.\n",
        "num_classes = data.num_classes\n",
        "\n",
        "# Number of colour channels for the images: 1 channel for gray-scale.\n",
        "num_channels = data.num_channels\n",
        "\n",
        "img_size, img_size_flat, img_shape, img_shape_full, num_channels"
      ],
      "execution_count": 15,
      "outputs": [
        {
          "output_type": "execute_result",
          "data": {
            "text/plain": [
              "(28, 784, (28, 28), (28, 28, 1), 1)"
            ]
          },
          "metadata": {
            "tags": []
          },
          "execution_count": 15
        }
      ]
    },
    {
      "metadata": {
        "id": "OANiIYhcT8u5",
        "colab_type": "text"
      },
      "cell_type": "markdown",
      "source": [
        "## Sequential Model"
      ]
    },
    {
      "metadata": {
        "id": "fW_P1WsvWQWz",
        "colab_type": "code",
        "colab": {}
      },
      "cell_type": "code",
      "source": [
        "# Start sequential model\n",
        "model = Sequential()\n",
        "\n",
        "# Input layer, input_shape must be tuple containing image-size\n",
        "model.add(InputLayer(input_shape=(img_size_flat,)))\n",
        "\n",
        "# reshape array of 784 elements to (28*28*1)\n",
        "model.add(Reshape(img_shape_full))\n",
        "\n",
        "# Add first conv and max-pool layer\n",
        "model.add(Conv2D(kernel_size=5, strides=1, filters=16, padding='same',\n",
        "                 activation='relu', name='layer_conv1'))\n",
        "model.add(MaxPooling2D(pool_size=2, strides=2))\n",
        "model.add(Dropout(0.25))\n",
        "        \n",
        "# Add second conv and maxpool layer\n",
        "model.add(Conv2D(kernel_size=5, strides=1, filters=36, padding='same',\n",
        "                 activation='relu', name='layer_conv2'))\n",
        "model.add(MaxPooling2D(pool_size=2, strides=2))\n",
        "\n",
        "# Flatten layer to give it as input to fully connected layer\n",
        "model.add(Flatten())\n",
        "\n",
        "# first fully connected layer\n",
        "model.add(Dense(128, activation='relu'))\n",
        "\n",
        "# last FC layer for classification\n",
        "model.add(Dense(num_classes, activation='softmax'))"
      ],
      "execution_count": 0,
      "outputs": []
    },
    {
      "metadata": {
        "id": "snsfSg4L9Ryg",
        "colab_type": "text"
      },
      "cell_type": "markdown",
      "source": [
        "### Model Compilation"
      ]
    },
    {
      "metadata": {
        "id": "u5-iw6jt9ZNM",
        "colab_type": "code",
        "colab": {}
      },
      "cell_type": "code",
      "source": [
        "model.compile(optimizer='rmsprop',\n",
        "              loss='categorical_crossentropy',\n",
        "              metrics=['accuracy'])"
      ],
      "execution_count": 0,
      "outputs": []
    },
    {
      "metadata": {
        "id": "KQu1pa7fAXOq",
        "colab_type": "text"
      },
      "cell_type": "markdown",
      "source": [
        "### Training"
      ]
    },
    {
      "metadata": {
        "id": "DZvxT1PiDZKu",
        "colab_type": "code",
        "colab": {
          "base_uri": "https://localhost:8080/",
          "height": 382
        },
        "outputId": "22b9e8ae-770f-4df5-dcc8-5b67f185f9c7"
      },
      "cell_type": "code",
      "source": [
        "model.fit(x=data.x_train,\n",
        "          y=data.y_train,\n",
        "          epochs=10, batch_size=128)"
      ],
      "execution_count": 25,
      "outputs": [
        {
          "output_type": "stream",
          "text": [
            "Epoch 1/10\n",
            "55000/55000 [==============================] - 5s 97us/step - loss: 0.0342 - acc: 0.9890\n",
            "Epoch 2/10\n",
            "55000/55000 [==============================] - 5s 96us/step - loss: 0.0265 - acc: 0.9915\n",
            "Epoch 3/10\n",
            "55000/55000 [==============================] - 5s 95us/step - loss: 0.0239 - acc: 0.9926\n",
            "Epoch 4/10\n",
            "55000/55000 [==============================] - 5s 95us/step - loss: 0.0202 - acc: 0.9936\n",
            "Epoch 5/10\n",
            "55000/55000 [==============================] - 5s 95us/step - loss: 0.0171 - acc: 0.9945\n",
            "Epoch 6/10\n",
            "55000/55000 [==============================] - 5s 96us/step - loss: 0.0148 - acc: 0.9952\n",
            "Epoch 7/10\n",
            "55000/55000 [==============================] - 5s 95us/step - loss: 0.0136 - acc: 0.9957\n",
            "Epoch 8/10\n",
            "55000/55000 [==============================] - 5s 95us/step - loss: 0.0113 - acc: 0.9959\n",
            "Epoch 9/10\n",
            "55000/55000 [==============================] - 5s 96us/step - loss: 0.0109 - acc: 0.9964\n",
            "Epoch 10/10\n",
            "55000/55000 [==============================] - 5s 95us/step - loss: 0.0089 - acc: 0.9969\n"
          ],
          "name": "stdout"
        },
        {
          "output_type": "execute_result",
          "data": {
            "text/plain": [
              "<keras.callbacks.History at 0x7f10e50abdd8>"
            ]
          },
          "metadata": {
            "tags": []
          },
          "execution_count": 25
        }
      ]
    },
    {
      "metadata": {
        "id": "sfzUMLR0DsF1",
        "colab_type": "text"
      },
      "cell_type": "markdown",
      "source": [
        "###Evaluation"
      ]
    },
    {
      "metadata": {
        "id": "a9yKPrfqEAGv",
        "colab_type": "code",
        "colab": {
          "base_uri": "https://localhost:8080/",
          "height": 34
        },
        "outputId": "f763a00d-bdb3-4c94-c5fe-4cc73cdc9981"
      },
      "cell_type": "code",
      "source": [
        "result = model.evaluate(x=data.x_test,\n",
        "                        y=data.y_test)"
      ],
      "execution_count": 26,
      "outputs": [
        {
          "output_type": "stream",
          "text": [
            "10000/10000 [==============================] - 1s 103us/step\n"
          ],
          "name": "stdout"
        }
      ]
    },
    {
      "metadata": {
        "id": "QJyKL-0HHrOP",
        "colab_type": "code",
        "colab": {
          "base_uri": "https://localhost:8080/",
          "height": 34
        },
        "outputId": "f994cc2b-091d-47a8-be86-6947c8972a48"
      },
      "cell_type": "code",
      "source": [
        "model.metrics_names"
      ],
      "execution_count": 28,
      "outputs": [
        {
          "output_type": "execute_result",
          "data": {
            "text/plain": [
              "['loss', 'acc']"
            ]
          },
          "metadata": {
            "tags": []
          },
          "execution_count": 28
        }
      ]
    },
    {
      "metadata": {
        "id": "JmTBJzg6Iu2f",
        "colab_type": "code",
        "colab": {
          "base_uri": "https://localhost:8080/",
          "height": 34
        },
        "outputId": "4085ddbd-050b-418c-d580-8a5b0ca73a98"
      },
      "cell_type": "code",
      "source": [
        "# contains loss and accuracy\n",
        "result"
      ],
      "execution_count": 29,
      "outputs": [
        {
          "output_type": "execute_result",
          "data": {
            "text/plain": [
              "[0.031058502746955038, 0.9913]"
            ]
          },
          "metadata": {
            "tags": []
          },
          "execution_count": 29
        }
      ]
    },
    {
      "metadata": {
        "id": "B07vQu7DJGFe",
        "colab_type": "code",
        "colab": {
          "base_uri": "https://localhost:8080/",
          "height": 52
        },
        "outputId": "374964a9-a119-4b60-84f1-8136c3d53bf6"
      },
      "cell_type": "code",
      "source": [
        "for name, value in zip(model.metrics_names, result):\n",
        "    print(name, value)"
      ],
      "execution_count": 32,
      "outputs": [
        {
          "output_type": "stream",
          "text": [
            "loss 0.031058502746955038\n",
            "acc 0.9913\n"
          ],
          "name": "stdout"
        }
      ]
    },
    {
      "metadata": {
        "id": "g3DZ_GcyJZti",
        "colab_type": "text"
      },
      "cell_type": "markdown",
      "source": [
        "**We have achieved an accuracy of 99.13% on test data.**"
      ]
    },
    {
      "metadata": {
        "id": "y34EybzNJ0E0",
        "colab_type": "text"
      },
      "cell_type": "markdown",
      "source": [
        "###Helper functions for plotting images"
      ]
    },
    {
      "metadata": {
        "id": "59ftTsLGZCtk",
        "colab_type": "code",
        "colab": {}
      },
      "cell_type": "code",
      "source": [
        "def plot_images(images, cls_true, cls_pred=None):\n",
        "    assert len(images) == len(cls_true) == 9\n",
        "    \n",
        "    # Create figure with 3x3 sub-plots.\n",
        "    fig, axes = plt.subplots(3, 3)\n",
        "    fig.subplots_adjust(hspace=0.3, wspace=0.3)\n",
        "\n",
        "    for i, ax in enumerate(axes.flat):\n",
        "        # Plot image.\n",
        "        ax.imshow(images[i].reshape(img_shape), cmap='binary')\n",
        "\n",
        "        # Show true and predicted classes.\n",
        "        if cls_pred is None:\n",
        "            xlabel = \"True: {0}\".format(cls_true[i])\n",
        "        else:\n",
        "            xlabel = \"True: {0}, Pred: {1}\".format(cls_true[i], cls_pred[i])\n",
        "\n",
        "        # Show the classes as the label on the x-axis.\n",
        "        ax.set_xlabel(xlabel)\n",
        "        \n",
        "        # Remove ticks from the plot.\n",
        "        ax.set_xticks([])\n",
        "        ax.set_yticks([])\n",
        "    \n",
        "    # Ensure the plot is shown correctly with multiple plots\n",
        "    # in a single Notebook cell.\n",
        "    plt.show()"
      ],
      "execution_count": 0,
      "outputs": []
    },
    {
      "metadata": {
        "id": "Ftq_C20XZFv0",
        "colab_type": "text"
      },
      "cell_type": "markdown",
      "source": [
        "###Helper function to plot example errors"
      ]
    },
    {
      "metadata": {
        "id": "cwIeft9SZm08",
        "colab_type": "code",
        "colab": {}
      },
      "cell_type": "code",
      "source": [
        "def plot_example_errors(cls_pred):\n",
        "    # cls_pred is an array of the predicted class-number for\n",
        "    # all images in the test-set.\n",
        "\n",
        "    # Boolean array whether the predicted class is incorrect.\n",
        "    incorrect = (cls_pred != data.y_test_cls)\n",
        "\n",
        "    # Get the images from the test-set that have been\n",
        "    # incorrectly classified.\n",
        "    images = data.x_test[incorrect]\n",
        "    \n",
        "    # Get the predicted classes for those images.\n",
        "    cls_pred = cls_pred[incorrect]\n",
        "\n",
        "    # Get the true classes for those images.\n",
        "    cls_true = data.y_test_cls[incorrect]\n",
        "    \n",
        "    # Plot the first 9 images.\n",
        "    plot_images(images=images[0:9],\n",
        "                cls_true=cls_true[0:9],\n",
        "                cls_pred=cls_pred[0:9])"
      ],
      "execution_count": 0,
      "outputs": []
    },
    {
      "metadata": {
        "id": "7FtqtpxiZsPS",
        "colab_type": "text"
      },
      "cell_type": "markdown",
      "source": [
        "###Prediction"
      ]
    },
    {
      "metadata": {
        "id": "L8qDQg3laOkZ",
        "colab_type": "code",
        "colab": {
          "base_uri": "https://localhost:8080/",
          "height": 262
        },
        "outputId": "7da7ce95-c68c-4df4-db7f-88588f4bb170"
      },
      "cell_type": "code",
      "source": [
        "images = data.x_test[0:9]\n",
        "cls_true = data.y_test_cls[0:9]\n",
        "# predicted results as one-hot\n",
        "y_pred = model.predict(x=images)\n",
        "# get prdicted class\n",
        "y_pred_cls = np.argmax(y_pred, axis=1)\n",
        "# plot images\n",
        "plot_images(images=images,\n",
        "            cls_true=cls_true,\n",
        "            cls_pred=y_pred_cls)"
      ],
      "execution_count": 36,
      "outputs": [
        {
          "output_type": "display_data",
          "data": {
            "image/png": "[encoded data removed]",
            "text/plain": [
              "<matplotlib.figure.Figure at 0x7f10d90c7dd8>"
            ]
          },
          "metadata": {
            "tags": []
          }
        }
      ]
    },
    {
      "metadata": {
        "id": "cYrQ0DRLdcW9",
        "colab_type": "text"
      },
      "cell_type": "markdown",
      "source": [
        "### Misclassified Images\n"
      ]
    },
    {
      "metadata": {
        "id": "q2Ah14dPdxPx",
        "colab_type": "code",
        "colab": {
          "base_uri": "https://localhost:8080/",
          "height": 262
        },
        "outputId": "f263d361-59c4-4456-931f-baab3568f6c1"
      },
      "cell_type": "code",
      "source": [
        "y_pred = model.predict(x=data.x_test)\n",
        "cls_pred = np.argmax(y_pred, axis=1)\n",
        "plot_example_errors(cls_pred)\n"
      ],
      "execution_count": 37,
      "outputs": [
        {
          "output_type": "display_data",
          "data": {
            "image/png": "[encoded data removed]",
            "text/plain": [
              "<matplotlib.figure.Figure at 0x7f10d93da898>"
            ]
          },
          "metadata": {
            "tags": []
          }
        }
      ]
    },
    {
      "metadata": {
        "id": "xM5A1IVbd-MQ",
        "colab_type": "text"
      },
      "cell_type": "markdown",
      "source": [
        "##Saving and loading model"
      ]
    },
    {
      "metadata": {
        "id": "3brOEe23ePHh",
        "colab_type": "code",
        "colab": {}
      },
      "cell_type": "code",
      "source": [
        ""
      ],
      "execution_count": 0,
      "outputs": []
    }
  ]
}