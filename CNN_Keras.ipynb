{
  "nbformat": 4,
  "nbformat_minor": 0,
  "metadata": {
    "colab": {
      "name": "CNN_Keras.ipynb",
      "version": "0.3.2",
      "provenance": [],
      "collapsed_sections": [],
      "include_colab_link": true
    },
    "kernelspec": {
      "name": "python3",
      "display_name": "Python 3"
    },
    "accelerator": "GPU"
  },
  "cells": [
    {
      "cell_type": "markdown",
      "metadata": {
        "id": "view-in-github",
        "colab_type": "text"
      },
      "source": [
        "[View in Colaboratory](https://colab.research.google.com/github/shashank2806/mnist-digits-classifiers/blob/master/CNN_Keras.ipynb)"
      ]
    },
    {
      "metadata": {
        "id": "M2N3Ly540iRH",
        "colab_type": "text"
      },
      "cell_type": "markdown",
      "source": [
        "#CNN in Keras"
      ]
    },
    {
      "metadata": {
        "id": "1XpSpmwX8Dfz",
        "colab_type": "text"
      },
      "cell_type": "markdown",
      "source": [
        "Earlier we have built linear model and CNN in native TensorFlow. In this notebook we are going to use Keras API."
      ]
    },
    {
      "metadata": {
        "id": "KRZ_jgwDCNaO",
        "colab_type": "text"
      },
      "cell_type": "markdown",
      "source": [
        "###Imports"
      ]
    },
    {
      "metadata": {
        "id": "pPsmZb3yEnyV",
        "colab_type": "code",
        "colab": {}
      },
      "cell_type": "code",
      "source": [
        "%matplotlib inline\n",
        "import matplotlib.pyplot as plt\n",
        "import tensorflow as tf\n",
        "import numpy as np\n",
        "import math"
      ],
      "execution_count": 0,
      "outputs": []
    },
    {
      "metadata": {
        "id": "1ne5iXxzEu08",
        "colab_type": "code",
        "colab": {}
      },
      "cell_type": "code",
      "source": [
        "# import keras model and layers\n",
        "from keras.models import Sequential\n",
        "from keras.layers import InputLayer, Input, Conv2D, Dense, Flatten, Reshape, MaxPooling2D, Dropout"
      ],
      "execution_count": 0,
      "outputs": []
    },
    {
      "metadata": {
        "id": "2sJeUAjVFjIq",
        "colab_type": "code",
        "colab": {
          "base_uri": "https://localhost:8080/",
          "height": 34
        },
        "outputId": "7a09bf25-7707-4ece-d6c3-e94e86564bc3"
      },
      "cell_type": "code",
      "source": [
        "# workaround for google colab\n",
        "import os\n",
        "work_dir = \"/content/mnist-digits-classifiers/\" \n",
        "if os.getcwd() != work_dir:\n",
        "  !git clone https://github.com/shashank2806/mnist-digits-classifiers\n",
        "os.chdir(work_dir)"
      ],
      "execution_count": 51,
      "outputs": [
        {
          "output_type": "stream",
          "text": [
            "fatal: destination path 'mnist-digits-classifiers' already exists and is not an empty directory.\r\n"
          ],
          "name": "stdout"
        }
      ]
    },
    {
      "metadata": {
        "id": "V63S8YsNGJ11",
        "colab_type": "code",
        "colab": {
          "base_uri": "https://localhost:8080/",
          "height": 34
        },
        "outputId": "f6669f8c-5990-470a-e305-07f2fb6bff80"
      },
      "cell_type": "code",
      "source": [
        "# tensorflow version\n",
        "tf.__version__"
      ],
      "execution_count": 8,
      "outputs": [
        {
          "output_type": "execute_result",
          "data": {
            "text/plain": [
              "'1.10.1'"
            ]
          },
          "metadata": {
            "tags": []
          },
          "execution_count": 8
        }
      ]
    },
    {
      "metadata": {
        "id": "5NDTD34KGS1Z",
        "colab_type": "text"
      },
      "cell_type": "markdown",
      "source": [
        "###Load data"
      ]
    },
    {
      "metadata": {
        "id": "c5TkHIGPGYDn",
        "colab_type": "text"
      },
      "cell_type": "markdown",
      "source": [
        "We are using MNIST dataset which is about 12 MB"
      ]
    },
    {
      "metadata": {
        "id": "HytSc9a8Gnm2",
        "colab_type": "code",
        "colab": {}
      },
      "cell_type": "code",
      "source": [
        "# Download MNIST data-set\n",
        "from mnist import MNIST\n",
        "data = MNIST(data_dir=\"data/MNIST/\")"
      ],
      "execution_count": 0,
      "outputs": []
    },
    {
      "metadata": {
        "id": "qcD3kDfwGszp",
        "colab_type": "text"
      },
      "cell_type": "markdown",
      "source": [
        "###Visualsize data"
      ]
    },
    {
      "metadata": {
        "id": "8nzpigRLG3Y4",
        "colab_type": "code",
        "colab": {
          "base_uri": "https://localhost:8080/",
          "height": 86
        },
        "outputId": "37d5a604-0c71-47c2-d191-404926867ed7"
      },
      "cell_type": "code",
      "source": [
        "print(\"Size of:\")\n",
        "print(\"- Training-set:\\t\\t{}\".format(data.num_train))\n",
        "print(\"- Validation-set:\\t{}\".format(data.num_val))\n",
        "print(\"- Test-set:\\t\\t{}\".format(data.num_test))"
      ],
      "execution_count": 14,
      "outputs": [
        {
          "output_type": "stream",
          "text": [
            "Size of:\n",
            "- Training-set:\t\t55000\n",
            "- Validation-set:\t5000\n",
            "- Test-set:\t\t10000\n"
          ],
          "name": "stdout"
        }
      ]
    },
    {
      "metadata": {
        "id": "12Hi2lfAG6Yz",
        "colab_type": "code",
        "colab": {
          "base_uri": "https://localhost:8080/",
          "height": 34
        },
        "outputId": "e147fe33-885c-4231-94cc-c7fa0c9d1e5b"
      },
      "cell_type": "code",
      "source": [
        "# The number of pixels in each dimension of an image.\n",
        "img_size = data.img_size\n",
        "\n",
        "# The images are stored in one-dimensional arrays of this length.\n",
        "img_size_flat = data.img_size_flat\n",
        "\n",
        "# Tuple with height and width of images used to reshape arrays.\n",
        "img_shape = data.img_shape\n",
        "\n",
        "# Tuple with height, width and depth used to reshape arrays.\n",
        "# This is used for reshaping in Keras.\n",
        "img_shape_full = data.img_shape_full\n",
        "\n",
        "# Number of classes, one class for each of 10 digits.\n",
        "num_classes = data.num_classes\n",
        "\n",
        "# Number of colour channels for the images: 1 channel for gray-scale.\n",
        "num_channels = data.num_channels\n",
        "\n",
        "img_size, img_size_flat, img_shape, img_shape_full, num_channels"
      ],
      "execution_count": 15,
      "outputs": [
        {
          "output_type": "execute_result",
          "data": {
            "text/plain": [
              "(28, 784, (28, 28), (28, 28, 1), 1)"
            ]
          },
          "metadata": {
            "tags": []
          },
          "execution_count": 15
        }
      ]
    },
    {
      "metadata": {
        "id": "OANiIYhcT8u5",
        "colab_type": "text"
      },
      "cell_type": "markdown",
      "source": [
        "## Sequential Model"
      ]
    },
    {
      "metadata": {
        "id": "fW_P1WsvWQWz",
        "colab_type": "code",
        "colab": {}
      },
      "cell_type": "code",
      "source": [
        "# Start sequential model\n",
        "model = Sequential()\n",
        "\n",
        "# Input layer, input_shape must be tuple containing image-size\n",
        "model.add(InputLayer(input_shape=(img_size_flat,)))\n",
        "\n",
        "# reshape array of 784 elements to (28*28*1)\n",
        "model.add(Reshape(img_shape_full))\n",
        "\n",
        "# Add first conv and max-pool layer\n",
        "model.add(Conv2D(kernel_size=5, strides=1, filters=16, padding='same',\n",
        "                 activation='relu', name='layer_conv1'))\n",
        "model.add(MaxPooling2D(pool_size=2, strides=2))\n",
        "model.add(Dropout(0.25))\n",
        "        \n",
        "# Add second conv and maxpool layer\n",
        "model.add(Conv2D(kernel_size=5, strides=1, filters=36, padding='same',\n",
        "                 activation='relu', name='layer_conv2'))\n",
        "model.add(MaxPooling2D(pool_size=2, strides=2))\n",
        "\n",
        "# Flatten layer to give it as input to fully connected layer\n",
        "model.add(Flatten())\n",
        "\n",
        "# first fully connected layer\n",
        "model.add(Dense(128, activation='relu'))\n",
        "\n",
        "# last FC layer for classification\n",
        "model.add(Dense(num_classes, activation='softmax'))"
      ],
      "execution_count": 0,
      "outputs": []
    },
    {
      "metadata": {
        "id": "snsfSg4L9Ryg",
        "colab_type": "text"
      },
      "cell_type": "markdown",
      "source": [
        "### Model Compilation"
      ]
    },
    {
      "metadata": {
        "id": "u5-iw6jt9ZNM",
        "colab_type": "code",
        "colab": {}
      },
      "cell_type": "code",
      "source": [
        "model.compile(optimizer='rmsprop',\n",
        "              loss='categorical_crossentropy',\n",
        "              metrics=['accuracy'])"
      ],
      "execution_count": 0,
      "outputs": []
    },
    {
      "metadata": {
        "id": "KQu1pa7fAXOq",
        "colab_type": "text"
      },
      "cell_type": "markdown",
      "source": [
        "### Training"
      ]
    },
    {
      "metadata": {
        "id": "DZvxT1PiDZKu",
        "colab_type": "code",
        "colab": {
          "base_uri": "https://localhost:8080/",
          "height": 382
        },
        "outputId": "22b9e8ae-770f-4df5-dcc8-5b67f185f9c7"
      },
      "cell_type": "code",
      "source": [
        "model.fit(x=data.x_train,\n",
        "          y=data.y_train,\n",
        "          epochs=10, batch_size=128)"
      ],
      "execution_count": 25,
      "outputs": [
        {
          "output_type": "stream",
          "text": [
            "Epoch 1/10\n",
            "55000/55000 [==============================] - 5s 97us/step - loss: 0.0342 - acc: 0.9890\n",
            "Epoch 2/10\n",
            "55000/55000 [==============================] - 5s 96us/step - loss: 0.0265 - acc: 0.9915\n",
            "Epoch 3/10\n",
            "55000/55000 [==============================] - 5s 95us/step - loss: 0.0239 - acc: 0.9926\n",
            "Epoch 4/10\n",
            "55000/55000 [==============================] - 5s 95us/step - loss: 0.0202 - acc: 0.9936\n",
            "Epoch 5/10\n",
            "55000/55000 [==============================] - 5s 95us/step - loss: 0.0171 - acc: 0.9945\n",
            "Epoch 6/10\n",
            "55000/55000 [==============================] - 5s 96us/step - loss: 0.0148 - acc: 0.9952\n",
            "Epoch 7/10\n",
            "55000/55000 [==============================] - 5s 95us/step - loss: 0.0136 - acc: 0.9957\n",
            "Epoch 8/10\n",
            "55000/55000 [==============================] - 5s 95us/step - loss: 0.0113 - acc: 0.9959\n",
            "Epoch 9/10\n",
            "55000/55000 [==============================] - 5s 96us/step - loss: 0.0109 - acc: 0.9964\n",
            "Epoch 10/10\n",
            "55000/55000 [==============================] - 5s 95us/step - loss: 0.0089 - acc: 0.9969\n"
          ],
          "name": "stdout"
        },
        {
          "output_type": "execute_result",
          "data": {
            "text/plain": [
              "<keras.callbacks.History at 0x7f10e50abdd8>"
            ]
          },
          "metadata": {
            "tags": []
          },
          "execution_count": 25
        }
      ]
    },
    {
      "metadata": {
        "id": "sfzUMLR0DsF1",
        "colab_type": "text"
      },
      "cell_type": "markdown",
      "source": [
        "###Evaluation"
      ]
    },
    {
      "metadata": {
        "id": "a9yKPrfqEAGv",
        "colab_type": "code",
        "colab": {
          "base_uri": "https://localhost:8080/",
          "height": 34
        },
        "outputId": "f763a00d-bdb3-4c94-c5fe-4cc73cdc9981"
      },
      "cell_type": "code",
      "source": [
        "result = model.evaluate(x=data.x_test,\n",
        "                        y=data.y_test)"
      ],
      "execution_count": 26,
      "outputs": [
        {
          "output_type": "stream",
          "text": [
            "10000/10000 [==============================] - 1s 103us/step\n"
          ],
          "name": "stdout"
        }
      ]
    },
    {
      "metadata": {
        "id": "QJyKL-0HHrOP",
        "colab_type": "code",
        "colab": {
          "base_uri": "https://localhost:8080/",
          "height": 34
        },
        "outputId": "f994cc2b-091d-47a8-be86-6947c8972a48"
      },
      "cell_type": "code",
      "source": [
        "model.metrics_names"
      ],
      "execution_count": 28,
      "outputs": [
        {
          "output_type": "execute_result",
          "data": {
            "text/plain": [
              "['loss', 'acc']"
            ]
          },
          "metadata": {
            "tags": []
          },
          "execution_count": 28
        }
      ]
    },
    {
      "metadata": {
        "id": "JmTBJzg6Iu2f",
        "colab_type": "code",
        "colab": {
          "base_uri": "https://localhost:8080/",
          "height": 34
        },
        "outputId": "4085ddbd-050b-418c-d580-8a5b0ca73a98"
      },
      "cell_type": "code",
      "source": [
        "# contains loss and accuracy\n",
        "result"
      ],
      "execution_count": 29,
      "outputs": [
        {
          "output_type": "execute_result",
          "data": {
            "text/plain": [
              "[0.031058502746955038, 0.9913]"
            ]
          },
          "metadata": {
            "tags": []
          },
          "execution_count": 29
        }
      ]
    },
    {
      "metadata": {
        "id": "B07vQu7DJGFe",
        "colab_type": "code",
        "colab": {
          "base_uri": "https://localhost:8080/",
          "height": 52
        },
        "outputId": "374964a9-a119-4b60-84f1-8136c3d53bf6"
      },
      "cell_type": "code",
      "source": [
        "for name, value in zip(model.metrics_names, result):\n",
        "    print(name, value)"
      ],
      "execution_count": 32,
      "outputs": [
        {
          "output_type": "stream",
          "text": [
            "loss 0.031058502746955038\n",
            "acc 0.9913\n"
          ],
          "name": "stdout"
        }
      ]
    },
    {
      "metadata": {
        "id": "g3DZ_GcyJZti",
        "colab_type": "text"
      },
      "cell_type": "markdown",
      "source": [
        "**We have achieved an accuracy of 99.13% on test data.**"
      ]
    },
    {
      "metadata": {
        "id": "y34EybzNJ0E0",
        "colab_type": "text"
      },
      "cell_type": "markdown",
      "source": [
        "###Helper functions for plotting images"
      ]
    },
    {
      "metadata": {
        "id": "59ftTsLGZCtk",
        "colab_type": "code",
        "colab": {}
      },
      "cell_type": "code",
      "source": [
        "def plot_images(images, cls_true, cls_pred=None):\n",
        "    assert len(images) == len(cls_true) == 9\n",
        "    \n",
        "    # Create figure with 3x3 sub-plots.\n",
        "    fig, axes = plt.subplots(3, 3)\n",
        "    fig.subplots_adjust(hspace=0.3, wspace=0.3)\n",
        "\n",
        "    for i, ax in enumerate(axes.flat):\n",
        "        # Plot image.\n",
        "        ax.imshow(images[i].reshape(img_shape), cmap='binary')\n",
        "\n",
        "        # Show true and predicted classes.\n",
        "        if cls_pred is None:\n",
        "            xlabel = \"True: {0}\".format(cls_true[i])\n",
        "        else:\n",
        "            xlabel = \"True: {0}, Pred: {1}\".format(cls_true[i], cls_pred[i])\n",
        "\n",
        "        # Show the classes as the label on the x-axis.\n",
        "        ax.set_xlabel(xlabel)\n",
        "        \n",
        "        # Remove ticks from the plot.\n",
        "        ax.set_xticks([])\n",
        "        ax.set_yticks([])\n",
        "    \n",
        "    # Ensure the plot is shown correctly with multiple plots\n",
        "    # in a single Notebook cell.\n",
        "    plt.show()"
      ],
      "execution_count": 0,
      "outputs": []
    },
    {
      "metadata": {
        "id": "Ftq_C20XZFv0",
        "colab_type": "text"
      },
      "cell_type": "markdown",
      "source": [
        "###Helper function to plot example errors"
      ]
    },
    {
      "metadata": {
        "id": "cwIeft9SZm08",
        "colab_type": "code",
        "colab": {}
      },
      "cell_type": "code",
      "source": [
        "def plot_example_errors(cls_pred):\n",
        "    # cls_pred is an array of the predicted class-number for\n",
        "    # all images in the test-set.\n",
        "\n",
        "    # Boolean array whether the predicted class is incorrect.\n",
        "    incorrect = (cls_pred != data.y_test_cls)\n",
        "\n",
        "    # Get the images from the test-set that have been\n",
        "    # incorrectly classified.\n",
        "    images = data.x_test[incorrect]\n",
        "    \n",
        "    # Get the predicted classes for those images.\n",
        "    cls_pred = cls_pred[incorrect]\n",
        "\n",
        "    # Get the true classes for those images.\n",
        "    cls_true = data.y_test_cls[incorrect]\n",
        "    \n",
        "    # Plot the first 9 images.\n",
        "    plot_images(images=images[0:9],\n",
        "                cls_true=cls_true[0:9],\n",
        "                cls_pred=cls_pred[0:9])"
      ],
      "execution_count": 0,
      "outputs": []
    },
    {
      "metadata": {
        "id": "7FtqtpxiZsPS",
        "colab_type": "text"
      },
      "cell_type": "markdown",
      "source": [
        "###Prediction"
      ]
    },
    {
      "metadata": {
        "id": "L8qDQg3laOkZ",
        "colab_type": "code",
        "colab": {
          "base_uri": "https://localhost:8080/",
          "height": 237
        },
        "outputId": "6cb4f8c1-209b-4413-d148-4b5f37168aa3"
      },
      "cell_type": "code",
      "source": [
        "images = data.x_test[0]\n",
        "cls_true = data.y_test_cls[0]\n",
        "# predicted results as one-hot\n",
        "y_pred = model.predict(x=images)\n",
        "# get prdicted class\n",
        "y_pred_cls = np.argmax(y_pred, axis=1)\n",
        "# plot images\n",
        "plot_images(images=images,\n",
        "            cls_true=cls_true,\n",
        "            cls_pred=y_pred_cls)"
      ],
      "execution_count": 50,
      "outputs": [
        {
          "output_type": "error",
          "ename": "AttributeError",
          "evalue": "ignored",
          "traceback": [
            "\u001b[0;31m---------------------------------------------------------------------------\u001b[0m",
            "\u001b[0;31mAttributeError\u001b[0m                            Traceback (most recent call last)",
            "\u001b[0;32m<ipython-input-50-141c338e1dc7>\u001b[0m in \u001b[0;36m<module>\u001b[0;34m()\u001b[0m\n\u001b[0;32m----> 1\u001b[0;31m \u001b[0mimages\u001b[0m \u001b[0;34m=\u001b[0m \u001b[0mdata\u001b[0m\u001b[0;34m.\u001b[0m\u001b[0mx_test\u001b[0m\u001b[0;34m[\u001b[0m\u001b[0;36m0\u001b[0m\u001b[0;34m]\u001b[0m\u001b[0;34m\u001b[0m\u001b[0m\n\u001b[0m\u001b[1;32m      2\u001b[0m \u001b[0mcls_true\u001b[0m \u001b[0;34m=\u001b[0m \u001b[0mdata\u001b[0m\u001b[0;34m.\u001b[0m\u001b[0my_test_cls\u001b[0m\u001b[0;34m[\u001b[0m\u001b[0;36m0\u001b[0m\u001b[0;34m]\u001b[0m\u001b[0;34m\u001b[0m\u001b[0m\n\u001b[1;32m      3\u001b[0m \u001b[0;31m# predicted results as one-hot\u001b[0m\u001b[0;34m\u001b[0m\u001b[0;34m\u001b[0m\u001b[0m\n\u001b[1;32m      4\u001b[0m \u001b[0my_pred\u001b[0m \u001b[0;34m=\u001b[0m \u001b[0mmodel\u001b[0m\u001b[0;34m.\u001b[0m\u001b[0mpredict\u001b[0m\u001b[0;34m(\u001b[0m\u001b[0mx\u001b[0m\u001b[0;34m=\u001b[0m\u001b[0mimages\u001b[0m\u001b[0;34m)\u001b[0m\u001b[0;34m\u001b[0m\u001b[0m\n\u001b[1;32m      5\u001b[0m \u001b[0;31m# get prdicted class\u001b[0m\u001b[0;34m\u001b[0m\u001b[0;34m\u001b[0m\u001b[0m\n",
            "\u001b[0;31mAttributeError\u001b[0m: module 'data' has no attribute 'x_test'"
          ]
        }
      ]
    },
    {
      "metadata": {
        "id": "cYrQ0DRLdcW9",
        "colab_type": "text"
      },
      "cell_type": "markdown",
      "source": [
        "### Misclassified Images\n"
      ]
    },
    {
      "metadata": {
        "id": "q2Ah14dPdxPx",
        "colab_type": "code",
        "colab": {
          "base_uri": "https://localhost:8080/",
          "height": 262
        },
        "outputId": "f263d361-59c4-4456-931f-baab3568f6c1"
      },
      "cell_type": "code",
      "source": [
        "y_pred = model.predict(x=data.x_test)\n",
        "cls_pred = np.argmax(y_pred, axis=1)\n",
        "plot_example_errors(cls_pred)\n"
      ],
      "execution_count": 37,
      "outputs": [
        {
          "output_type": "display_data",
          "data": {
            "image/png": "[encoded data removed]",
            "text/plain": [
              "<matplotlib.figure.Figure at 0x7f10d93da898>"
            ]
          },
          "metadata": {
            "tags": []
          }
        }
      ]
    },
    {
      "metadata": {
        "id": "xM5A1IVbd-MQ",
        "colab_type": "text"
      },
      "cell_type": "markdown",
      "source": [
        "##Saving and loading model"
      ]
    },
    {
      "metadata": {
        "id": "3brOEe23ePHh",
        "colab_type": "code",
        "colab": {
          "resources": {
            "http://localhost:8080/nbextensions/google.colab/files.js": {
              "data": "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",
              "ok": true,
              "headers": [
                [
                  "content-type",
                  "application/javascript"
                ]
              ],
              "status": 200,
              "status_text": "OK"
            }
          },
          "base_uri": "https://localhost:8080/",
          "height": 118
        },
        "outputId": "077ac718-4377-4e00-dc46-6b5d2d9e73fe"
      },
      "cell_type": "code",
      "source": [
        "from google.colab import files\n",
        "files.upload()"
      ],
      "execution_count": 38,
      "outputs": [
        {
          "output_type": "display_data",
          "data": {
            "text/html": [
              "\n",
              "     <input type=\"file\" id=\"files-e30ce85c-fe54-4bb6-b9a8-a68e6eab4784\" name=\"files[]\" multiple disabled />\n",
              "     <output id=\"result-e30ce85c-fe54-4bb6-b9a8-a68e6eab4784\">\n",
              "      Upload widget is only available when the cell has been executed in the\n",
              "      current browser session. Please rerun this cell to enable.\n",
              "      </output>\n",
              "      <script src=\"/nbextensions/google.colab/files.js\"></script> "
            ],
            "text/plain": [
              "<IPython.core.display.HTML object>"
            ]
          },
          "metadata": {
            "tags": []
          }
        },
        {
          "output_type": "stream",
          "text": [
            "Saving img.png to img.png\n"
          ],
          "name": "stdout"
        },
        {
          "output_type": "execute_result",
          "data": {
            "text/plain": [
              "{'img.png': b'\\x89PNG\\r\\n\\x1a\\n\\x00\\x00\\x00\\rIHDR\\x00\\x00\\x018\\x00\\x00\\x01-\\x08\\x02\\x00\\x00\\x00\\x13\\x06\\xeb\\x15\\x00\\x00\\x00\\x03sBIT\\x08\\x08\\x08\\xdb\\xe1O\\xe0\\x00\\x00\\x00\\x19tEXtSoftware\\x00gnome-screenshot\\xef\\x03\\xbf>\\x00\\x00\\x19\\xbbIDATx\\x9c\\xed\\xddol\\x1bw\\x1d\\xc7\\xf1\\xaf\\x1b\\xc7N.i\\xec$\\xce\\xd6&K\\x9c\\x8e\\x8dt#,\\t\\x88nj+\\xec\\x14\\xb6Q\\x04k\\'\\x01{\\x02J@\\x9b\\x04b\\x12\\x99\\xe8\\xc4\\x03\\xc4\\xd2=\\x80\\x07\\xfc\\x8bAB\\xda\\x04S[$\\xd0\\xd0&\\xcd\\x91\\xaa\\r\\xa6\\xb19\\x9b:5\\x80\\x16g\\x856\\xa8\\x02;\\xa5\\xc9\\x86\\xf2\\xc7\\x97\\x90&\\xa9\\x93p<\\xf8\\x95\\xdb\\xf5|>\\x9f\\xed\\xf3\\xdd\\xfd|\\x9f\\xd7\\x83\\xcd\\xbe\\xd8\\xe9\\xb9\\xcd;\\xbf\\xdf\\xfd\\xf1\\xd9#IR,\\x16\\x1b\\x1e\\x1e\\x0e\\x06\\x83\\x04\\x00\\x8e\\xb4\\x8b\\x88FFFN\\x9f>-\\x8a\\xa2\\xdd+\\x03\\x00\\xdav\\xb1\\xff\\xa1U\\x00\\'\\xdb%\\xdfB\\xab\\x00\\x8e\\xb5Ky\\x07\\xad\\x028\\xd3.\\xd5}\\xb4\\n\\xe0@\\xeaP\\t\\xad\\x028\\x8fF\\xa8\\x84V\\x01\\x1cF;TB\\xab\\x00N\\x927TB\\xab\\x00\\x8e\\xa1\\x17*\\xa1U\\x00g(\\x10*\\xa1U\\x00\\x07(\\x1c*\\xa1U\\x00\\xbb\\x19\\n\\x95\\xd0*\\x80\\xad<\\x92$\\x19\\x7ft<\\x1e?~\\xfcx\\xe5\\xd6\\x06\\x004\\x15\\x17*\\x00\\xd8\\xc2\\xe8\\xd4\\x17\\x00l\\x84P\\x018\\x80P\\x018\\x80P\\x018\\x80P\\x018\\x80P\\x018\\x80P\\x018\\x80P\\x018\\x80P\\x018\\x80P\\x018\\x80P\\x018\\x80P\\x018\\x80P\\x018\\x80P\\x018\\x80P\\x018\\x80P\\x018\\x80P\\x018\\x80P\\x018\\x80P\\x018\\x80P\\x018\\x80P\\x018\\x80P\\x018\\x80P\\x018\\x80P\\x018\\x80P\\x018\\x80P\\x018\\x80P\\x018\\x80P\\x018\\x80P\\x018\\x80P\\x018\\x80P\\x018\\x80P\\x018\\x80P\\x018\\x80P\\x018\\x80P\\x018\\x80P\\x018\\x80P\\x018\\x80P\\x018\\xe0\\xb5{\\x05\\xdcH\\x14\\xc5\\x9f\\xfd\\xecg\\xcf>\\xfblww\\xf7\\xfc\\xfc|{{\\xbb\\xdf\\xef\\'\\xa2T*\\xb5\\xb3\\xb3CD\\x9d\\x9d\\x9d\\xf2\\xf2T*\\xd5\\xde\\xde>??\\xbf\\xb3\\xb3\\xd3\\xd9\\xd9\\xe9\\xf7\\xfb/^\\xbc\\xf8\\xdak\\xaf}\\xf4\\xa3\\x1f\\xb5\\xfbu\\x80u<\\x92$\\xd9\\xbd\\x0e\\xd5&\\x99LNLL$\\x12\\x89\\xc9\\xc9\\xc9\\x9a\\x9a\\x1aV\\x17\\x11\\xb1\\xe4\\xfc~\\xff_\\xfe\\xf2\\x97\\xb5\\xb55\"\\x12\\x04a}}\\x9d\\xfd\\x97=W\\x10\\x04\\xf6/\\xb2\\xb1\\xb1!/\\x97\\x1f&I\\xd2\\xc6\\xc6\\x06\\x11y<\\x9e\\xbd{\\xf7>\\xf2\\xc8#\\xc7\\x8e\\x1d\\x8bD\"\\xb6\\xbdT\\xb0\\nB-W2\\x99\\xfc\\xecg?[SSCD\\x9d\\x9d\\x9d\\x17.\\\\`\\x112\\xca\\xba\\xe8\\xff\\xc9\\x11Qmm\\xed\\xd6\\xd6\\x16\\x95\\xd1*\\x11\\xd5\\xd5\\xd5mnn\\x12\\xd1\\'>\\xf1\\x89W_}5\\x18\\x0cZ\\xf6\\xaa\\xc1b\\x08\\xb5\\x14\\xbd\\xbd\\xbd+++l\\xa8d\\xc3\\xa3\\xb2.9B\\xc6\\x9aVC\\xa1\\xd0\\xe5\\xcb\\x97\\xd1j\\xb5\\xc2\\xce$\\xa3DQ|\\xfa\\xe9\\xa7\\xdb\\xdb\\xdb\\x0f\\x1e<\\xb8\\xb0\\xb0\\xb0\\xb4\\xb4\\x94L&\\x13\\x89\\xc4\\xda\\xdaZmm\\xed\\xfa\\xfa\\xba\\xc7\\xe3!\\xa2\\xfa\\xfa\\xfa\\xad\\xad\\xad\\xda\\xdaZ\\xf9\\x89\\xecK\\xf5\\xf5\\xf5\\xf2]A\\x10\\x88H~\\x98\\\\)[.?\\x85}7y\\xb9\\xfc0\\xe5w\\xdb\\xdc\\xdc\\xac\\xab\\xab#\\xa2\\xc5\\xc5\\xc5P(\\xf4\\xfd\\xef\\x7f_\\x14E\\xcb\\xfeN\\xc02\\x18Q\\r\\xe9\\xed\\xedM\\xa7\\xd3\\xd7\\xae]\\xa3\\x9bG6\"b\\x83\\x1b\\x1b\\x1em\\x1fW=\\x1e\\x8f$I\\x0f<\\xf0\\xc0\\xef~\\xf7;\\x8c\\xae\\xd5\\x04#j\\x01l \\x9d\\x9f\\x9f\\xff\\xef\\x7f\\xff\\xeb\\xf5z\\xe9\\xe6\\x91\\x8d\\x88\\xd8\\xe0\\xc6\\x86G\\xdb\\xc7UI\\x92<\\x1e\\xcf\\xab\\xaf\\xbe\\xfa\\xe0\\x83\\x0fbh\\xad&\\x18Q\\xb5\\xc9GPVWW\\xe5\\x81T\\x92\\xa4\\xad\\xad\\xad\\xed\\xedm\\xe2a\\\\=p\\xe0\\xc0\\x1f\\xfe\\xf0\\x07\\x8c\\xab\\xd5\\x01\\xa1j\\x10E\\xb1\\xa3\\xa3CN\"\\x9b\\xcd\\xcaq\\xf2\\xd5\\xea\\xed\\xb7\\xdf\\xfe\\xfa\\xeb\\xaf\\x87\\xc3a+\\xfe\\xd6\\xa0\\x920\\xf5\\xd5\\x10\\x8f\\xc7\\xd7\\xd7\\xd7\\xe5\\x19\\xa9\\xcf\\xe7\\x93\\'\\xbd\\x1e\\x8f\\xa7\\xb6\\xb6\\x96\\x979\\xf0?\\xff\\xf9\\xcf\\x8f\\x7f\\xfc\\xe3\\x17.\\\\\\xb0\\xe2o\\r*\\t#\\xaa\\x86\\xfe\\xfe\\xfe\\xe9\\xe9i\\xbay\\x94\\xe3w\\\\\\xad\\xab\\xab\\xfb\\xe3\\x1f\\xffx\\xf0\\xe0A\\x0b\\xfe\\xea\\xa0B\\x10\\xaaZ2\\x99\\x1c\\x18\\x18\\x90\\xefVG\\xab^\\xafwbb\\x02\\xad\\xf2\\x0bS_\\xb5X,\\xa6\\xbc\\xab\\x9c\\x91\\xf2;\\x07\\xde\\xde\\xde\\x8eD\"o\\xbf\\xfdv\\xe5\\xfe\\xde\\xa0\\xa2\\x10\\xea\\x07\\xc2\\xe1\\xf0\\x8b/\\xbe\\xf8\\xc2\\x0b/\\xa8\\x96WA\\xabD\\x84V\\xb9\\x86\\xa9\\xef\\x07\\x1a\\x1b\\x1b\\xd9\\x91\\x18\\xd5\\x1c\\x95\\xe1}\\x0e\\xcc`\\x0e\\xcc)\\x8c\\xa87$\\x93I\\x9f\\xcf\\xc7n\\xab\\xc6=\\xd5BN\\xc7U\\x06\\xe3*\\xa70\\xa2\\xde \\x08\\x82rt\"\\x8c\\xab\\xe0$\\x08\\x95\\x88(\\x91H\\x0c\\x0e\\x0e\\xca-9\\xb6\\xd5\\xd6\\xd6\\xd6\\xde\\xde\\xde+W\\xaetuu\\xb1\\xc7\\\\\\xb9r\\x85\\xdd\\xe8\\xea\\xea\\x92\\x97\\xb3\\x1b\\xecK]]]o\\xbf\\xfd\\xb6\\xeau\\x11Z\\xe5\\rB%\"\\xfa\\xc67\\xbe\\xf1\\xcc3\\xcf\\x90\\xa2%\\xbbZmmmmjjRv\\xd8\\xd5\\xd5\\xb5\\xbd\\xbd=33\\xf3\\xf8\\xe3\\x8f\\x8f\\x8c\\x8c\\x94vJ\\xe0\\xc0\\xc0@ \\x10\\xb8x\\xf1\\xe2\\xc2\\xc2\\x82\\xbc\\x10\\xadr\\x04\\xa1\\x12\\x11\\xb5\\xb5\\xb5-..\\xb2\\xdb\\xd6\\xb4\\xca\\x82$\\xa2\\xf6\\xf6\\xf6\\x99\\x99\\x99\\xc3\\x87\\x0fG\\xa3\\xd1h4\\xda\\xdf\\xdf_\\xb9\\x97)\\x8abss\\xb3r\\tZ\\xe5\\x05B\\xbdq\\x86\\x83\\xcf\\xe7\\xcbf\\xb3lI%Zmhhhll\\x94\\x87\\xc7\\xd7^{\\xad\\xa2M\\xe6\\x13\\x0e\\x87\\xe5\\xd92\\x83V\\xb9\\x80\\x8b\\x9b\\xdd8\\xc3!\\x9b\\xcd\\xca\\xad\\xca\\xfbi\\xe5V\\xd9\\x12U\\xab\\xf2By\\xbf\\xeb\\xf6\\xf66\\xbb\\xcd\\xf6\\xd6\\xb2\\xbbl\\xc3reeejj\\xca\\x86\\x97w\\xb3}\\xfb\\xf6-..\\xca\\xbf\\x80\\xe4s!\\xd0\\xaa\\xd3I\\xee666&\\x1f\\xf3 \"\\xf9\\x08\\r\\x11\\xb1\\xd8\\x94_\\xcd=f\\xa3\\\\(\\x08\\x02;H\\xc3n\\x87B\\xa1\\xd6\\xd6\\xd6\\xd1\\xd1\\xd1L&c\\xf7\\xab\\xfc\\x00\\xdb\\xfaU\\xbe(v\\xbb\\xae\\xae\\xee\\xddw\\xdf\\xb5{\\xed /\\xf7\\x86\\x9aJ\\xa5\\xa2\\xd1hn\\x81f\\xb5\\xda\\xd1\\xd1a\\xf7K\\xd4p\\xff\\xfd\\xf7\\xb3\\x97\\xa3|Q\\r\\r\\rD\\xd4\\xdc\\xdc\\x8cV\\x1d\\xcb\\xa5\\xdb\\xa8\\xcaw\\x9c2\\xca\\x99m9\\xdb\\xab---\\x1e\\x8f\\xa7\\x9c=\\xb4\\x95\\x16\\x08\\x04\\xe4)\\xba\\xfc\\xa2\\x1a\\x1a\\x1a\\xae]\\xbb\\xd6\\xdc\\xdc<11\\x81+\\x06;\\x91\\xdd\\xbf)\\xec1::J9\\xc3c\\x99\\xe3\\xaa \\x08N\\x9b\\xe8j\\x8aD\"\\xb5\\xb5\\xb5\\xf9\\xc6\\xd5\\xb6\\xb6\\xb6t:m\\xf7:\\x82\\x9a\\x1bC\\x9d\\x9a\\x9a\\x92\\x7f@Ml\\xf5[\\xdf\\xfa\\x96\\xdd\\xaf\\xcc\\x10\\xb6\\x99\\xaa\\xd3\\xea\\x9dw\\xde\\xe9\\xfc_7n\\xe3\\xbas}\\x93\\xc9\\xe4\\xa1C\\x87\\xe4\\x0b8\\xa8N\\xbbU\\xdee\\xfb\\x81\\x95\\xcb\\x95g\\xdb\\xe6\\x9e\\x0f<22b\\xc5\\x0b0\\x83 \\x08[[[\\xf2\\x94^~Q\\xd7\\xae]khh\\xb8|\\xf9\\xf2W\\xbe\\xf2\\x15{\\xd7\\x10T\\xdc\\x15\\xaa\\xb2R\\xb94SZ\\x8dD\"\\xdd\\xdd\\xdd\\x96\\xbd\\x90\\xf2\\xe9\\xb7z\\xf6\\xecY\\\\\\xc4\\xd0Q\\xdc\\x15\\xea\\x91#G\\x94\\x95\\x9a\\xd8\\xea\\xf0\\xf0\\xb0\\x95/\\xa4d\\xa2(\\xfe\\xe7?\\xffa\\xb7\\xf5[}\\xee\\xb9\\xe7\\xec[MPsW\\xa8\\x8d\\x8d\\x8d^\\xafWY\\xa9)\\xad\\n\\x82\\xc0K\\xa8\\xb1X,\\x93\\xc9\\xc8wuZ\\xfd\\xe9O\\x7f\\x8aA\\xd59\\\\\\x14j2\\x99d\\x1f?ab\\xab\\x82 \\xb4\\xb6\\xb6\\x9e;w\\xce\\xfa\\x97S\\x02v\\xb1b\"R\\x1e\\x97\\xca\\xd7\\xea\\xfc\\xfc<\\xb6T\\x9d\\xc3-\\xc7Q\\xe5\\x03\\xa7\\xcasqU\\xad\\xb2\\x03\\xa1\\xaa\\xc3\\xa4\\xfa\\xc7W;::\\xae^\\xbdj\\xfd\\xcb)\\xcd\\xc9\\x93\\'\\x9f~\\xfai\\xf9\\xaer\\x7f/\\xdb\"P\\x9d8ID\\x99L\\xc6\\x99G\\x83\\xdd\\xc6-#j,\\x16c?\\x8b\\xcak2\\x949\\xae\\n\\x82p\\xf6\\xecY\\xeb_KiDQ\\xfc\\xd1\\x8f~\\xa4\\\\bd\\\\\\x8d\\xc7\\xe3\\x96\\xae%\\xe4\\xe1\\x8aP\\xe5)\\x9f\\xf2\\xaa(\\xe5\\xb7\\xfa\\xc5/~\\xd1\\x96w\\xc0\\x94F\\xfeU\\xa5\\\\X\\xb0U\\x84\\xea\\x10\\xae\\x085\\x16\\x8b\\xc9\\xfbELlU>U\\x98\\x0b?\\xfc\\xe1\\x0fI\\xeb\\xf0\\xaf~\\xab\\xe3\\xe3\\xe3\\xd8\\xa5\\xe4\\x04\\xae\\x08\\xf5\\xd9g\\x9fU\\xde5\\xab\\xd5\\xe3\\xc7\\x8f[\\xf9*\\xca\\x91N\\xa7\\xd9\\xd5$\\xa8\\xf8Vq\\x9c\\xc6\\t\\\\\\x11\\xea\\xa5K\\x97\\x02\\x81\\x80rI\\xf9\\xad\\x1e=z\\x94\\xa3\\xbd,\\xc9d\\x92\\x14\\xeb_T\\xab\\xaa_s`\\x0bW\\x84\\x1a\\x0c\\x06\\xd3\\xe9\\xb4\\xb9\\xad\\xf2r\\xe0\\x94a\\xa1RI\\xad\\xb6\\xb6\\xb6Z\\xb9\\xaa\\xa0\\xc9\\x15\\xa1\\x92\\xd9\\xad\\n\\x82\\xc0\\xd1\\xbc\\x97\\x88\\x12\\x89\\x84|\\xbb\\xd8V\\xe7\\xe6\\xe6\\xacZM\\xc8\\xcb-\\xa1\\x92y\\xadF\"\\x91\\xbf\\xfd\\xedo6\\xbc\\x80R\\x89\\xa2\\xf8\\xe7?\\xffY\\xb9\\xa4\\xa8V\\x97\\x97\\x97ggg\\xadYU\\xc8\\xc7E\\xa1R\\xd9\\xad\\n\\x82066\\x96H$\\xf8:\\xff^\\xf9q\\xaf2\\xe3\\xad^\\xbbv\\xedK_\\xfa\\x925\\xab\\n\\xf9\\xb8+T*\\xaf\\xd5\\'\\x9f|\\x92\\xa3\\xf7\\xb2\\xc9\\xd8\\xd5\\xdbr\\x834\\xde\\xea\\xae]\\xae\\xfb9q\\x1a\\xb7\\x9cB\\xa8\"\\x8abww\\xf7\\xca\\xca\\x8ara\\xad\\xe2\\xea\\xd8\\xb9\\xe7\\x18\\n\\x82077\\xc7\\xd1\\x9e^&\\xdf\\xc7\\xbd\\xe6.\\xc9\\xfd\\x92|~R(\\x14\\xc2\\xec\\xd7^.\\xfdMY\\xec\\xb8*\\x08\\xc2\\xb9s\\xe7\\xb8\\xab\\x94\\xf2\\x7f\\xdck\\xee\\x12\\xfdq\\x15\\xec\\xe5\\xd2P\\xa9\\x98VY\\xa5\\x1c\\x9d-(\\x13Eq||\\\\\\xb5\\x10\\xad\\xf2\\xc8\\xbd\\xa1\\x92\\xb1V\\x1b\\x1b\\x1b9\\xad\\x94\\x88~\\xfb\\xdb\\xdfj\\x9e\\x00Xl\\xab;;;\\x15]O(\\xc8\\xd5\\xa1\\x92\\x81V[ZZ8\\xad\\x94\\x88\\x9ez\\xea\\xa9|_*\\xaa\\xd5G\\x1f}\\xb4Bk\\x08\\x06\\xb9=T*\\xd4*\\xbf\\x83\\xc9\\xe9\\xd3\\xa7\\x97\\x96\\x96t\\x1e`\\xb0\\xd5@ \\xc0\\xe3\\xbe\\xee*\\x83P\\x89\\xf2\\xb7\\xca\\xd7;NUN\\x9e<Y\\xf01FZu\\xec\\x95\\xc4]\\x05\\xa1\\xde\\xa0\\xd9\\xea\\x93O>\\xc9\\xe9\\xbc7\\x16\\x8b\\x19<\\xa0\\xa2\\xdf\\xaa \\x08\\x18N\\x9d\\xc0\\xa5\\xc7Q\\xf3Q\\x1e_\\r\\x04\\x02\\xe9t\\x9a\\xc7\\xc1D\\x14\\xc5}\\xfb\\xf6\\x15\\xf5>\\xd2|\\xc7WGGG\\x8d\\x8c\\xccPi\\x18Qo\\xa2\\x1cW\\xf9\\x9d\\xf2)\\xdf(o\\x90\\xe6\\xb8\\x8a\\xe1\\xd490\\xa2j\\x10E\\xb1\\xaf\\xafozz\\x9a\\xc7P\\xe5\\x8b\\x8c\\x97\\xf0\\\\\\xd5\\xb8\\x1a\\x89D\\x94o\\xbb\\x01\\x1b\\xe1\\x83\\x8c5\\x04\\x83AN\\xcf\\x98K&\\x93\\x83\\x83\\x83\\xf2E\\xc6\\x8b}\\xba|&\\x16\\xbb\\xcb\\xd7\\xb5f\\xaa\\x1b\\xa6\\xbe\\xd5\\x83U\\xca&\\xbd\\xb9SY\\x83\\x94O\\xe4tGZUB\\xa8U\\x82\\xcdx\\x95\\x9b\\xa6\\xe5\\xb7\\x8aP\\x9d\\x03\\xdb\\xa8\\xd5@\\x1eKu\\xde\\x1cS,\\xf6NT\\x93V\\x10\\xca\\x85\\x11\\x95{\\xfa3\\xde\\x92\\xc7\\xd5\\xc7\\x1e{\\xcc\\x9c\\xf5\\x033`D\\xe5\\x9b\\xe6>^S\\xc6\\xd5T*\\xc5\\xd7\\x85,\\xaa\\x1bFT\\x8e\\x89\\xa2\\xf8\\xf0\\xc3\\x0f\\xeb\\\\fEg\\x89>\\xee>\\xee\\xb5\\xea!T\\x8eE\\xa3\\xd1t:M\\xc6\\xca,\\xaaU\\xbe.\\x86\\xea\\x06\\x98\\xfa\\xf2jxx\\xf8\\xcc\\x993\\xca%Ff\\xbcF\\xe6\\xc0\\x81@\\x00\\x1fc\\xe14\\x18Q\\xb9\\x14\\x8b\\xc5T\\x95\\x92y\\xe3*\\x86S\\x07\\xc2\\x88\\xca\\x9fx<\\xfe\\xf0\\xc3\\x0f\\xe7\\xfbj\\xf9\\xe3\\xea\\xf4\\xf4\\xf4=\\xf7\\xdcS\\xfez\\x82\\x89\\x10*g\\xe4Od\\xd6yL9\\xad\\x0e\\r\\r\\x9d>}\\xda\\x8c5\\x053a\\xea\\xcb\\x19\\xcd\\x8f9U)g\\x0e\\x8c7\\xb59\\x13B\\xe5\\x89\\xea\\x13\\x99u\\x1eYZ\\xabCCC8*\\xe3L\\x08\\x95\\'\\xb9\\x9f\\xc8\\xac\\xf3\\xe0b[\\r\\x04\\x02\\x18N\\x1d\\x0b\\xa1rC\\x92\\xa4\\x82W\\xd3V)\\xaa\\xd5\\x91\\x91\\x11\\x0c\\xa7\\x8e\\x85\\x9dI\\xdc`\\x1fN\\xe1\\xf7\\xfb\\xaf_\\xbf\\xae\\\\^\\xf0\\xd0\\xa8\\x91=I\\x9c~`\\x87{`D\\xe5\\xc6\\xef\\x7f\\xff{\"\\xba~\\xfd\\xba\\xdf\\xefW./\\x7f\\\\\\r\\x04\\x02\\x9c~`\\x87{ Tn\\xc4\\xe3qv\\xc3\\xdcV\\x03\\x81@\"\\x91\\xc0[O\\x1d\\x0eS_>\\xac\\xac\\xac477+\\xff\\xb1L\\x99\\x03\\xf3\\xfb\\xb1:n\\x83\\x11\\x95\\x0f\\xaf\\xbc\\xf2\\x8a\\xeaWj\\xf9\\xe3*\\x9b\\xf1\\xa2R. T>\\xb0\\rT\\x95\\xeb\\xd7\\xaf\\xfb|>\\xe5\\x12\\xe3\\xadb\\xc6\\xcb\\x17L}9 IRWW\\xd7\\xd5\\xabW5\\xbf\\xea\\xf3\\xf9\\xb2\\xd9\\xacrI\\xc190f\\xbc\\xdc\\xc1\\x88\\xca\\x81\\xe9\\xe9\\xe9|\\x95\\x12Q6\\x9b-v\\\\\\xfd\\xcdo~\\x83J\\xf9\\x82P9\\xa09\\xefU*\\xaa\\xd5\\xb1\\xb1\\xb1\\xe3\\xc7\\x8f\\x9b\\xb6r`\\t\\x84\\xca\\x01\\xf9\\xc0\\x8c\\x0e\\x83\\xad\\x0e\\r\\r\\xe1S*x\\x84mT\\xa7\\xcb=0\\xa3C\\x7f{\\xb5\\xaf\\xaf/\\x99L\\x9a\\xbf\\x8aPy\\x18Q\\x9d.\\xf7\\xc0\\x8c\\x8el6\\x9b\\xef\\xc4\\x86p8\\x8c\\x0f\\x92\\xe1\\x17Bu\\xba\\x82\\x1b\\xa8*\\xf9>\\x97-\\x1e\\x8f\\xe3$A~!TG\\x13E\\xf1\\x85\\x17^(\\xf6Y\\xb9\\xad\\xf2\\xfb\\x89\\xcc\\xc0 TG\\x8b\\xc7\\xe3\\x05\\xaf\\xe7\\xa0I\\xf5FS\\xec@\\xe2\\x1dBu4\\xf6N\\xee\\xd2>\\x96B\\xf9FSLzy\\x87\\xbd\\xbe\\xce\\x95H$\\x06\\x07\\x07\\xe5\\xbb\\xa5}\\xdcSCC\\xc3\\xd5\\xabW\\x11*\\xef0\\xa2:W\\xb1\\xd7s\\xd0\\xf4\\x85/|\\x01\\x95V\\x01\\x84\\xeaP\\xe9tz||\\\\\\xb5\\xb0\\x84V?\\xf3\\x99\\xcf\\x98\\xb7R`\\x1b\\x84\\xeaP\\xaa\\xe1T\\xb6\\xb5\\xb5\\xa5:\\x03I\\x87\\xc7\\xe39z\\xf4\\xa8y+\\x05\\xb6\\xc16\\xaa\\x13\\x15\\xbc\\xcav\\xee\\x19H\\x9a\\xee\\xbd\\xf7\\xde\\xf3\\xe7\\xcf\\x9b\\xbaj`\\x0f\\x8c\\xa8NT\\xf0\\xa8L\\xee\\x99\\xbd\\x9ap\\xf2}\\xd5\\xc0\\x88\\xeaD\\xdd\\xdd\\xdd\\xb3\\xb3\\xb3ThOo\\xc1qujj\\n\\xe79T\\x07\\x8c\\xa8\\x8e\\x93H$X\\xa5Th\\xef\\x91\\xfe\\xb8z\\xdbm\\xb7\\xf5\\xf5\\xf5\\x99\\xbf~`\\x07\\x84\\xea8E\\x1d\\x95\\xd1i\\xf5S\\x9f\\xfa\\x94\\xc7\\xe31y\\xe5\\xc0&\\x08\\xd5YJ8*\\x93\\xafU\\x1c\\x98\\xa9&\\x08\\xd5Yt\\x8e\\xca\\xe8\\xb7\\xaa\\xba\"!\\x0e\\xccT\\x19\\xecLr\\x90\\xb9\\xb9\\xb9\\xfd\\xfb\\xf7\\xaf\\xad\\xad\\xe5{\\x80\\xfe\\xbe%\\xe5\\x95~q`\\xa6\\xca`Du\\x90o~\\xf3\\x9bkkk:\\xfb\\x87\\xf4\\xc7U\\xe5\\x95~q`\\xa6\\xca T\\xa7x\\xfe\\xf9\\xe7\\xd9\\xd6\\xa9\\xfe\\xbe\\\\\\x83\\xadb\\x03\\xb5\\xca`\\xea\\xeb\\x08KKK===KKK\\xf2\\x12\\xfdc\\xa4\\xfas\\xe0`0\\xb8\\xbc\\xbc\\x8c]\\xbe\\xd5\\x04#\\xaa#|\\xfb\\xdb\\xdfVVJZ\\xfb\\x87\\x94\\xf4\\xc7\\xd5\\xa1\\xa1!TZe0\\xa2\\xda\\xef\\xec\\xd9\\xb3\\x9f\\xff\\xfc\\xe75\\xbf\\x94\\xfbIPJ\\xf9\\xc6\\xd5T*\\x85\\x8f$\\xae2\\x18Qm\\xb6\\xb6\\xb6\\xf6\\xf5\\xaf\\x7f=\\xdfWs?\\tJIs\\\\=v\\xec\\x18*\\xad>\\x08\\xd5f\\'N\\x9c\\x98\\x9b\\x9b\\xd3y@\\xb1\\xad\\xe2\\xf2HU\\tS_;\\xbd\\xf9\\xe6\\x9b\\x91H\\xc4\\xc8#\\r\\xce\\x81\\xc3\\xe1p:\\x9d6k\\xf5\\xc090\\xa2\\xda&\\x9b\\xcd>\\xfa\\xe8\\xa3\\x06\\x1flp\\\\e\\x17C\\x83\\xea\\x83Pm\\xf3\\xd4SO]\\xbe|\\xd9\\xf8\\xe3\\x0b\\xb6*\\x08\\x02\\xces\\xa8V\\x08\\xd5\\x1eSSS?\\xfe\\xf1\\x8f\\x8b}\\x96~\\xab\\x8f=\\xf6\\x18\\xaecV\\xad\\xb0\\x8dj\\x83l6{\\xdf}\\xf7MMM\\x95\\xf6\\xf4|\\xdb\\xab8*S\\xc50\\xa2\\xda\\xe0\\x07?\\xf8A\\xc9\\x95R\\x9eq\\x15Ge\\xaa\\x1bFT\\xab\\x89\\xa2\\xd8\\xd9\\xd9\\xa9\\xf3\\x16\\x19\\x83T\\xe3\\xea\\x1bo\\xbc\\x11\\x8dF\\xcb\\xfc\\x9e\\xe0X\\x18Q\\xad\\x16\\x8f\\xc7\\xd7\\xd6\\xd6\\xea\\xea\\xea\\xca\\xfc>\\xcaq5\\x1c\\x0e\\xa3\\xd2\\xea\\x86P\\xad\\xc6\\xde\\x1a\\xbe\\xb9\\xb9ib\\xab8*S\\xf50\\xf5\\xb5T2\\x99\\x1c\\x18\\x18\\x90\\xef\\xd6\\xd5\\xd5mnn\\x96\\xf9=\\x9b\\x9a\\x9afgg\\xb1\\xbf\\xb7\\xbaaD\\xb5\\x94\\xeaJ+\\xa6\\x8c\\xabO<\\xf1\\x04*\\xadz\\x18Q\\xad#IR0\\x18\\\\]]U-/g\\\\\\x1d\\x18\\x188\\x7f\\xfe\\xbc\\xf1\\x0f\\xb9\\x00NaD\\xb5\\xce\\xe4\\xe4\\xe4\\xea\\xeaj\\xee\\x91\\x95\\x92\\xc7\\xd5\\x9a\\x9a\\x9a\\xe7\\x9e{\\x0e\\x95\\xba\\x01B\\xb5N<\\x1e\\xa7<GAKk\\xf5\\xc4\\x89\\x13\\xca-^\\xa8b\\x98\\xfaZg\\xff\\xfe\\xfd\\x7f\\xff\\xfb\\xdf\\xd9m\\xcd\\xb3\\x8b\\x8a\\x9a\\x03\\xdfy\\xe7\\x9d\\x7f\\xfd\\xeb_1\\x9c\\xba\\x04FT\\x8b\\xcc\\xcc\\xcc\\xc8\\x95R\\xd9\\xe3jMM\\xcd\\xaf~\\xf5+T\\xea\\x1e\\x08\\xd5\"l\\xde\\xabt\\xfd\\xfa\\xf5\\xdc\\xd2\\x0c\\xb6\\xfa\\xf8\\xe3\\x8f\\x7f\\xf2\\x93\\x9f4m\\xe5\\xc0\\xf10\\xf5\\xb5\\xc8}\\xf7\\xdd799\\x99\\xbb\\\\\\xf3j\\x83\\xfas\\xe0\\x8e\\x8e\\x8e\\x99\\x99\\x99\\xc6\\xc6F\\x93W\\x11\\x1c\\x0c#\\xaa\\x15\\xde{\\xef\\xbd?\\xfd\\xe9O\\x9a_\\xd2\\xbc\\x8a\\xaf\\xfe\\xb8\\xfa\\xcc3\\xcf\\xa0R\\xb7A\\xa8V\\x18\\x1f\\x1f\\xd7\\x99\\xb9\\xe4kUs\\x13thh\\xe8s\\x9f\\xfb\\x9c\\xc9\\xeb\\x07\\x8e\\x87P\\xad\\x90\\xbb\\x81\\xaa\\xa2\\xd9j\\xee\\xc2\\x8e\\x8e\\x8e\\x9f\\xfc\\xe4\\'&\\xaf\\x1c\\xf0\\x00\\xdb\\xa8\\x15\\xb7\\xba\\xba\\xda\\xd6\\xd6\\xa6\\xff\\xd1\\xe0\\x8c\\xe6\\xf6\\xaar\\xe1K/\\xbd\\x84\\x8b\\xad\\xb8\\x13F\\xd4\\x8a{\\xf9\\xe5\\x97\\x8dTJ\\x85\\xc6\\xd5G\\x1ey\\x04\\x95\\xba\\x16B\\xad\\xb8\\x82\\xf3^\\xa5l6\\x9b{M\\xedl6\\xbb{\\xf7\\xee_\\xfc\\xe2\\x17\\xa6\\xae\\x17\\xf0\\x04\\xa1VV6\\x9b}\\xe5\\x95W\\x8az\\x8a\\xe6\\xf5\\xef\\xbf\\xf6\\xb5\\xaf\\xb5\\xb6\\xb6\\x9a\\xb7^\\xc0\\x19\\x84ZY\\xaf\\xbf\\xfez\\xee\\xdbe\\n\\xc2\\xf5\\xefA\\x05\\xa1VVQ\\xf3^%e\\xab\\x91H\\x04\\x17.s9\\x84ZA\\xa2(\\xfe\\xfa\\xd7\\xbf.\\xf9\\xe9r\\xab\\xc3\\xc3\\xc3\\xa6\\xad\\x13\\xf0\\t\\x87g*hxx\\xf8\\xcc\\x993\\xfa\\x1f:\\\\PCCC\\xf9\\x97,\\x04\\xdeaD\\xad\\x94D\"q\\xe6\\xcc\\x19*\\xf4\\xa1\\xc3\\x05}\\xf9\\xcb_6o\\xa5\\x80W\\x08\\xb5R\\x94\\xbb\\x7f\\xcai\\x15\\xc7N\\x81\\x10j\\x85\\xc4b\\xb1\\xe9\\xe9i\\xe5\\x92\\xd2Zmjj:r\\xe4\\x88y\\xeb\\x05\\xbcB\\xa8\\xe6\\x13E\\xf1\\xbb\\xdf\\xfdn\\xee\\xf2\\x12Z=z\\xf4(\\xde\\x1d\\x0e\\x84P+addd}}]\\xb3\\xc9b[\\xc5\\xbc\\x17\\x18\\xec\\xf55Y\"\\x91\\x18\\x1c\\x1cd\\xb7\\xf3\\xed\\xef\\xd5<\\xf9^\\xf3a\\x0b\\x0b\\x0bMMM&\\xaf\"p\\x08#\\xaa\\xc9\\x8c\\xecC\\xd2<\\xf9>\\xd7\\xe0\\xe0 *\\x05\\x06\\xa1\\x9a\\xc9\\xf8>$#\\xadb\\xde\\x0b2L}M\\x93L&\\x0f\\x1d:\\xb4\\xbe\\xbe\\x9e\\xfb\\xa5\\x12\\xe6\\xc0\\x1e\\x8fgnnn\\xef\\xde\\xbd&\\xaf%\\xf0\\t#\\xaa9\\x92\\xc9\\xe4\\xe0\\xe0`\\xb1\\xfb\\x90t\\xc6\\xd5\\x03\\x07\\x0e\\xa0R\\x90!T\\x13\\xc4b\\xb1C\\x87\\x0e\\x89\\xa2H\\xf9\\x9b,\\xb6U\\xcc{A\\tS\\xdf\\xb2$\\x12\\x89\\'\\x9ex\"\\x99L\\xd2\\xcd\\xf3\\xdb|s]\\xe3s\\xe0K\\x97.\\xed\\xdf\\xbf\\xbf\\x02\\xab\\x0c\\\\\\xc2\\x88Z\"Q\\x14\\xbf\\xfa\\xd5\\xaf\\x0e\\x0e\\x0e\\xb2J\\xe9\\xe61\\xb3\\x84qUy\\xe1\\xfc\\x9e\\x9e\\x1eT\\nJ^\\xbbW\\x80W\\xb7\\xdf~{&\\x93Q-d\\x1d\\xb21Sy;\\xdfc\\x94\\xd8\\x87\\\\\\xb0\\x0f\\xa4\\xc1\\xbc\\x17T0\\xa2\\x96\"\\x16\\x8bI\\x92Tp\\xcc,v\\\\\\x95?\\x90\\x06\\xa1\\x82\\n\\xb6Q\\x8b\\xa3\\xdc(\\xad\\xaf\\xaf\\xdf\\xde\\xde.\\xb8-Z\\xec\\xf6j0\\x18\\\\^^\\xf6x<\\xa6\\xae8\\xf0\\r#\\xaaQ\\xb9\\x1b\\xa5\\x1b\\x1b\\x1b^\\xaf\\xd7\\xf4qutt\\x14\\x95\\x82\\nFTC\\xd2\\xe9\\xf4G>\\xf2\\x11\\xcd\\x93\\x19\\xcc\\x1dW\\xfb\\xfa\\xfa\\xe4_\\x04\\x06%\\x93\\xc9\\x95\\x95\\x95D\"!\\x8ab2\\x99L\\xa5R\\xed\\xed\\xed\\xb9\\x9f\\xe9(/g7\\xe6\\xe7\\xe7\\xe5\\xbb;;;D\\xd4\\xd9\\xd9\\xa9|\\x16[\\xde\\xd9\\xd99;;{\\xf0\\xe0\\xc1\\xee\\xee\\xeeP(\\xd4\\xd6\\xd6\\xa6\\xfco0\\x18,jU\\xa1d\\x08\\xd5\\x90h4:11\\x91/6\\x13[}\\xe9\\xa5\\x97\\xf6\\xed\\xdb\\xf7\\xfe\\xfb\\xef\\xbf\\xf7\\xde{\\xef\\xbf\\xff>\\xbbq\\xe1\\xc2\\x85\\xd6\\xd6V\\xafW\\xbd\\xe7ojjjee%\\xf7\\x1b\\n\\x82\\xa0\\xf9;E^\\xcen(\\xef\\xb2\\x1f\\x83\\x8d\\x8d\\r\\xd5\\xe3%I\\xda\\xd8\\xd8\\xc8w\\x06\\x95\\xd7\\xeb\\r\\x85B\\xa1Ph{{{``\\xa0\\xa7\\xa7\\'\\x1a\\x8d\\x86\\xc3a\\\\\\x8a\\xcd|\\x12\\x14266&\\xffu\\xe5{\\x93Z}}}\\xbe/)\\x97\\xeb\\xbf\\xc7Mg\\xc6\\xdb\\xdc\\xdc\\\\\\xf0\\x9b+\\t\\x82\\xa0\\xbf\\x9c\\xddP\\xde\\xad\\xaf\\xaf\\xaf\\xaf\\xaf\\xcf}<[X\\xf0\\xccd\\xd5\\x1a\\xf6\\xf6\\xf6\\xf6\\xf5\\xf5\\xa5\\xd3i\\xbb\\xff\\xf5\\xaa\\x04B-\\xe0\\xd4\\xa9S\\xaa\\x1f\\xfa2[\\xad\\xa9\\xa9\\xd1\\xff\\x897XB\\xc1\\xf5\\xb1\\xbd\\xd5P($\\x08\\xc2]w\\xdd\\x85\\\\\\xcb\\x87P\\xf5\\x0c\\r\\ri\\xc6PB\\xabF\\x14[B\\xc1\\xf5qB\\xab\\xb5\\xb5\\xb5\\xb7\\xdez+Z-\\x13B\\xd5\\x96J\\xa5\\xfa\\xfb\\xfbub\\xc8\\xd7\\x86\\xd7\\xeb-g\\x9f-Z\\x05M\\xd8\\x99\\xa4\\xad\\xa5\\xa5%\\xf7\\xc4#\\xd5\\xde\\xa0\\x9a\\x9a\\x1a\\xb6\\xbf\\xd4\\\\\\x05\\xaf\\xff\\xd0\\xdc\\xdc\\x9c\\xbbn\\xb9\\xab\\'3}\\xdf\\x92|\\x06\\x95\\xc15\\x0c\\x85B+++---\\x93\\x93\\x93\\xe1pX\\xe7\\x89\\x90\\x0f\\x8e\\xa3j\\x10EQ\\xd2:\\xf1hkkK\\xb9\\x85ib\\xa5\\xca?Ku\\xdeo\\xaeL&\\xa39\\xae\\xe6;0\\xcb\"\\xd4Y.W*\\xdfe\\x93\\x02\\xd5\\xb8\\xca\\x96\\xd7\\xd7\\xd7\\xcbgP\\x19\\\\\\xc3\\xc5\\xc5\\xc5@ \\xb0\\xbc\\xbc|\\xef\\xbd\\xf7\\xce\\xce\\xce\\xea<\\x11\\xf2A\\xa8\\x1ab\\xb1\\x98(\\x8a\\x9a\\'3Tb\\x08\\xa5\\x9c\\xc6\\x8c\\x94\\xa0y\\x95\\x16G\\xb5\\xaa\\\\C\\xb9\\xd5\\x0f\\x7f\\xf8\\xc3\\x1f\\xfa\\xd0\\x87\\x0e\\x1e<888\\xd8\\xdd\\xdd}\\xf2\\xe4\\xc9b\\x8f\\x1b\\xbb\\x94\\xbd3o\\x07\\xcad2\\xf2q|\\x9f\\xcfg\\xe5IB\\xaa\\xc6\\xf4K \\xa2|WT\\xb2l{\\xb5\\xd85\\x0c\\x85B\\xec\\xefS~\"\\xfb\\xb3\\x0e\\x1f>\\xfc\\xc6\\x1bo\\xd8\\xfd/\\xefh\\x08UmttT\\xff\\x87\\xaf\\xa2\\xdc\\xd0*\\xbb\\xa1j\\xf5\\x8e;\\xee\\x08\\x87\\xc3\\xd8\\xe1\\x94\\x0fB\\xbdI&\\x93ill\\xd4\\xff\\xc93\\xc5\\xae]y7:\\\\\\xdb\\xaa\\xd7\\xeb\\x15\\x04\\x01\\xadjB\\xa8\\x1f\\xc8d2\\xaaC2\\x15\\xa5s\\xc4\\x95\\xbbV\\xeb\\xea\\xea\\x8aZ\\xc3|\\xad\\x12\\x91\\xcf\\xe7{\\xf7\\xddw\\xed\\xfeYp\\x1c\\x84zC*\\x95*\\xf8\\xd3V>\\xd5@\\x8aVI\\xabU\"z\\xf0\\xc1\\x07O\\x9f>\\x9dJ\\xa5\\xec\\xfe\\xb9p\\n\\x84zC$\\x12\\xd1\\xff93\\x8b\\xc1\\x13\\'r\\xbfT\\xb0\\x84|\\x93v\\xe7\\xb4\\xaaZC\\xfdV\\x99\\xfe\\xfe\\xfeX,\\xc6\\xe6\\xc3\\xa7N\\x9d\\xcad2v\\xff\\xa4\\xd8\\x03\\xa1J\\xd2\\xcd\\xa7\\xdd[\\x00\\xad\\xca\\x8c\\xb4JD\\xfb\\xf6\\xed\\xfb\\xcew\\xbe\\x93J\\xa5\\xc6\\xc6\\xc6\\xdc\\xd9*B\\x95$I\\xcaw^^\\xe5\\xa0U\\x99\\xc1V\\xbb\\xba\\xba\\x88hxx\\xf8{\\xdf\\xfb\\x9e\\x0b[\\xc5)\\x84DD\\x87\\x0f\\x1f>w\\xee\\\\\\x85\\xbe\\xb9\\xc1\\xb7\\x8c\\xe7{X\\xee\\x97\\xea\\xea\\xea677u\\xfe\\xc4\\xc6\\xc6\\xc6\\xb5\\xb55\\xe3k\\xb2g\\xcf\\x9e\\x9e\\x9e\\x9e\\xdc\\xe5W\\xae\\\\ay\\xb0\\x1b\\xca\\xbb\\xec\\x01\\xec\\xae\\xf2\\xf1D\\xd4\\xd9\\xd9\\x99N\\xa7\\x9b\\x9a\\x9a\\x16\\x17\\x17\\x17\\x17\\x17\\xb7\\xb7\\xb7\\x0b\\xaea(\\x14Z\\\\\\\\$\"\\xf9\\xe4D\\xcd\\xd3\\x1e\\xd9:\\x10\\xd1\\x81\\x03\\x07~\\xf9\\xcb_\\xdes\\xcf=\\xf9\\xff\\x0e\\xaa\\rB%\"\\xba\\xed\\xb6\\xdb\\xe6\\xe6\\xe6*\\xf7\\xfdMo\\xb5\\xbe\\xbe^u\"\\xae\\xac\\xa6\\xa6\\xe6\\x96[n\\xf1\\xfb\\xfd\\xb9g\\xd5noo\\xff\\xe3\\x1f\\xff\\xe8\\xe9\\xe9\\xe9\\xef\\xef\\x0f\\x06\\x83\\xd1h4\\x18\\x0cVzG\\xb7(\\x8a\\x0b\\x0b\\x0b\\x8b\\x8b\\x8b\\xaa\\xffNNN\\xce\\xcc\\xcc\\xc8\\x0f+\\xb6U\"\\xea\\xec\\xec|\\xeb\\xad\\xb7\\\\r\\xf20B%\"\\xba\\xe5\\x96[\\x16\\x16\\x16*\\xfaG\\x98\\xdejKK\\xcb\\xa7?\\xfd\\xe9\\xbd{\\xf7\\xee\\xd9\\xb3g\\xcf\\x9e=\\xec\\xc6\\xde\\xbd{C\\xa1\\x90\\xceAZ\\xa7I\\xa7\\xd3\\xe9t:\\x91H\\xa4\\xd3\\xe9\\xe9\\xe9\\xe9\\xe9\\xe9iI\\x92\\x8c\\xb7*\\x08\\xc2\\xc5\\x8b\\x17\\xdd\\xd0*B%\"\\n\\x06\\x83\\x9a\\xd741W\\xf9\\xad\\xee\\xde\\xbd\\xfb\\xc8\\x91#\\xd1h4\\x1a\\x8dZy\\xc8\\xd7J~\\xbf?\\x9b\\xcd\\xca\\xd3{\\xb4\\xca T\"\\xabB%\\xc3\\xad\\xee\\xde\\xbd\\xfbc\\x1f\\xfbXw\\x0e\\x0b\\xd6\\xd0\\t\\xda\\xda\\xda\\x96\\x96\\x96\\xfc~?Z\\x95!T\\xa2<\\xef>-\\x99\\xce\\x90\\xa8\\xf3U7\\x8c\\x96\\xc6\\xa1U\\x15\\x84JD$\\x8abGG\\x87\\xe6\\xbb\\xabK\\xa3\\xdf*\\x1b0\\xad\\xdc\\xa3\\xc3#\\xb4\\xaa\\x84Po\\xa8t\\xab\\x81@ \\xfa\\x7f\\xc8\\xd2 \\xb4*C\\xa8\\x1f0\\xbdUA\\x10\\xee\\xbf\\xff~\\xc4Y\\x8e\\xb6\\xb6\\xb6\\xe5\\xe5\\xe5\\xd6\\xd6\\xd6\\xbb\\xef\\xbe\\x9b\\x88\\xae\\\\\\xb9\\x92J\\xa5T\\x8fqC\\xab\\x08\\xf5&f\\xb5\\xda\\xd7\\xd7722r\\xfc\\xf8q\\\\K\\xbe|\\x03\\x03\\x03D455\\xc5\\xee\\x8a\\xa2\\x18\\x0e\\x87WWW\\x95\\x8f\\xa9\\xfaV\\x11\\xaaZ\\xc9\\xad\\xb2\\x8b\\x92\\r\\r\\r\\r\\x0f\\x0fG\\xa3\\xd1\\n\\xac\\x1a|\\xa0\\xad\\xad\\x8d\\x9d !\\xab\\xeeV\\x11\\xaa\\x86\\xd2Z=v\\xec\\xd8\\x89\\x13\\'\\x0e\\x1f>\\\\\\xa1\\xb5\\x02\\x15\\xb6\\x05\\xab\\xfc\\x01\\xae\\xe2V\\x11\\xaa\\xb6\\xa2Z\\xbd\\xf5\\xd6[\\x9f\\x7f\\xfey\\x8c\\xa2\\xd6\\x1b\\x18\\x18XYYQn\\xb5Vk\\xab\\x085/\\x83\\xad\\xfa|\\xbe\\x7f\\xff\\xfb\\xdf\\xd8\\x16\\xb5\\x91(\\x8a\\xf1x<\\x1e\\x8f\\x8f\\x8f\\x8fS\\x95\\xb6\\x8aP\\xf5\\x14l\\xd5\\xef\\xf7\\x9f?\\x7f\\x1e{t\\x1dB.\\xf6\\x9dw\\xde\\xf9\\xd7\\xbf\\xfe\\xc5\\x16VG\\xab\\x08\\xb5\\x00\\x9dV}>\\xdf\\xddw\\xdf-\\xef\\x8d\\x04\\xe7\\x10E\\xf1\\xd4\\xa9S\\xe3\\xe3\\xe3\\x13\\x13\\x13T\\x15\\xad\"\\xd4\\xc2\\xf2\\xb5:00\\xf0\\xce;\\xef\\xd8\\xb2J`P\"\\x918y\\xf2\\xe4\\xc4\\xc4\\x04\\xef\\xad\"TC4[\\xed\\xe8\\xe8\\xb8z\\xf5\\xaa]\\xab\\x04\\xc6%\\x12\\x89\\x87\\x1ezhgg\\x87\\xdfV\\x11\\xaaQ\\xb9\\xadF\"\\x91D\"a\\xdf\\x1aAq\\xee\\xba\\xeb.I\\x92\\x94\\xefV\\xe7\\x087\\xef0\\xb6]0\\x18\\x9c\\x9b\\x9bS^\\xce\\x07\\xc7c\\xf8r\\xe9\\xd2\\xa5\\x07\\x1ex\\xc0\\xee\\xb5(\\x11B-\\x82\\xaaU\\xec\\xec\\xe5\\xce\\xcf\\x7f\\xfes\\xbbW\\xa1D\\x08\\xb58\\xcaV\\x11*X\\x06\\xdb\\xa8\\xa5\\x10E\\xb1\\xb7\\xb7\\x17{\\x92\\xc02\\x08\\x15\\x80\\x03\\x98\\xfa\\x02p\\x00\\xa1\\x02p\\x00\\xa1\\x02p\\x00\\xa1\\x02p\\x00\\xa1\\x02p\\x00\\xa1\\x02p\\x00\\xa1\\x02p\\x00\\xa1\\x02p\\x00\\xa1\\x02p\\x00\\xa1\\x02p\\x00\\xa1\\x02p\\x00\\xa1\\x02p\\x00\\xa1\\x02p\\x00\\xa1\\x02p\\x00\\xa1\\x02p\\x00\\xa1\\x02p\\x00\\xa1\\x02p\\x00\\xa1\\x02p\\x00\\xa1\\x02p\\x00\\xa1\\x02p\\x00\\xa1\\x02p\\x00\\xa1\\x02p\\x00\\xa1\\x02p\\x00\\xa1\\x02p\\x00\\xa1\\x02p\\x00\\xa1\\x02p\\x00\\xa1\\x02p\\x00\\xa1\\x02p\\x00\\xa1\\x02p\\x00\\xa1\\x02p\\x00\\xa1\\x02p\\x00\\xa1\\x02p\\x00\\xa1\\x02p\\x00\\xa1\\x02p\\x00\\xa1\\x02p\\x00\\xa1\\x02p\\x00\\xa1\\x02p\\x00\\xa1\\x02p\\x00\\xa1\\x02p\\x00\\xa1\\x02p\\x00\\xa1\\x02p\\x00\\xa1\\x02p\\x00\\xa1\\x02p\\x00\\xa1\\x02p\\x00\\xa1\\x02p\\x00\\xa1\\x02p\\x00\\xa1\\x02p\\x00\\xa1\\x02p\\x00\\xa1\\x02p\\x00\\xa1\\x02p\\x00\\xa1\\x02p\\x00\\xa1\\x02p\\x00\\xa1\\x02p\\x00\\xa1\\x02p\\x00\\xa1\\x02p\\xe0\\x7f\\x0f\\xbb\\x7f\\xb0!\\xee\\x11l\\x00\\x00\\x00\\x00IEND\\xaeB`\\x82'}"
            ]
          },
          "metadata": {
            "tags": []
          },
          "execution_count": 38
        }
      ]
    },
    {
      "metadata": {
        "id": "U1LMSWpFqY-g",
        "colab_type": "code",
        "colab": {
          "base_uri": "https://localhost:8080/",
          "height": 121
        },
        "outputId": "7e0b7817-6567-4faa-bb40-f2b6e16fc2cb"
      },
      "cell_type": "code",
      "source": [
        "!ls"
      ],
      "execution_count": 40,
      "outputs": [
        {
          "output_type": "stream",
          "text": [
            "cache.py\t\t\t    img.png\r\n",
            "CNN_Keras.ipynb\t\t\t    linear_model.ipynb\r\n",
            "convolutional_neural_network.ipynb  mnist-digits-classifiers\r\n",
            "data\t\t\t\t    mnist.py\r\n",
            "dataset.py\t\t\t    __pycache__\r\n",
            "download.py\t\t\t    README.md\r\n"
          ],
          "name": "stdout"
        }
      ]
    },
    {
      "metadata": {
        "id": "2RW_Y8NfqeLb",
        "colab_type": "code",
        "colab": {
          "base_uri": "https://localhost:8080/",
          "height": 389
        },
        "outputId": "c2fd28a6-ebf6-4d23-bcc1-00691ac3d8bb"
      },
      "cell_type": "code",
      "source": [
        "from PIL import Image\n",
        "import numpy as np\n",
        "import matplotlib.pyplot as pt\n",
        "import scipy.misc\n",
        "im = Image.open('img.png')\n",
        "im2arr = np.array(im)\n",
        "x = scipy.misc.imresize(im2arr, (28, 28, 1))\n",
        "# pt.imshow(x)\n",
        "# pt.show()\n",
        "print(x.shape)\n",
        "red_channel = x[:, :, 1]\n",
        "print(red_channel.shape)\n",
        "pt.imshow(x)\n",
        "pt.show()\n"
      ],
      "execution_count": 41,
      "outputs": [
        {
          "output_type": "stream",
          "text": [
            "(28, 28, 3)\n",
            "(28, 28)\n"
          ],
          "name": "stdout"
        },
        {
          "output_type": "stream",
          "text": [
            "/usr/local/lib/python3.6/dist-packages/scipy/misc/pilutil.py:482: FutureWarning: Conversion of the second argument of issubdtype from `int` to `np.signedinteger` is deprecated. In future, it will be treated as `np.int64 == np.dtype(int).type`.\n",
            "  if issubdtype(ts, int):\n",
            "/usr/local/lib/python3.6/dist-packages/scipy/misc/pilutil.py:485: FutureWarning: Conversion of the second argument of issubdtype from `float` to `np.floating` is deprecated. In future, it will be treated as `np.float64 == np.dtype(float).type`.\n",
            "  elif issubdtype(type(size), float):\n"
          ],
          "name": "stderr"
        },
        {
          "output_type": "display_data",
          "data": {
            "image/png": "[encoded data removed]",
            "text/plain": [
              "<matplotlib.figure.Figure at 0x7f10d678d518>"
            ]
          },
          "metadata": {
            "tags": []
          }
        }
      ]
    },
    {
      "metadata": {
        "id": "MmjbL9zNqr4W",
        "colab_type": "code",
        "colab": {
          "base_uri": "https://localhost:8080/",
          "height": 34
        },
        "outputId": "4a555a1c-9a6c-4689-a24e-58692f0fe97a"
      },
      "cell_type": "code",
      "source": [
        "type(red_channel)"
      ],
      "execution_count": 44,
      "outputs": [
        {
          "output_type": "execute_result",
          "data": {
            "text/plain": [
              "numpy.ndarray"
            ]
          },
          "metadata": {
            "tags": []
          },
          "execution_count": 44
        }
      ]
    },
    {
      "metadata": {
        "id": "AFBA1Fp-q-jH",
        "colab_type": "code",
        "colab": {}
      },
      "cell_type": "code",
      "source": [
        "img_flat = np.ndarray.flatten(red_channel)"
      ],
      "execution_count": 0,
      "outputs": []
    },
    {
      "metadata": {
        "id": "MWnqziDFrbPm",
        "colab_type": "code",
        "colab": {}
      },
      "cell_type": "code",
      "source": [
        "img_flat.shape\n",
        "x = img_flat.reshape(1, 784)"
      ],
      "execution_count": 0,
      "outputs": []
    },
    {
      "metadata": {
        "id": "GF1HdLOVrny2",
        "colab_type": "code",
        "colab": {}
      },
      "cell_type": "code",
      "source": [
        "y_pred = model.predict(x=x)"
      ],
      "execution_count": 0,
      "outputs": []
    },
    {
      "metadata": {
        "id": "wjzRXzTLrzI_",
        "colab_type": "code",
        "colab": {
          "base_uri": "https://localhost:8080/",
          "height": 34
        },
        "outputId": "eb87af09-4d67-4dc0-974c-3926960653fb"
      },
      "cell_type": "code",
      "source": [
        "y_pred"
      ],
      "execution_count": 57,
      "outputs": [
        {
          "output_type": "execute_result",
          "data": {
            "text/plain": [
              "array([[0., 0., 1., 0., 0., 0., 0., 0., 0., 0.]], dtype=float32)"
            ]
          },
          "metadata": {
            "tags": []
          },
          "execution_count": 57
        }
      ]
    },
    {
      "metadata": {
        "id": "hYp7sRM7uK_l",
        "colab_type": "code",
        "colab": {
          "base_uri": "https://localhost:8080/",
          "height": 34
        },
        "outputId": "e57cb483-05f7-44f3-c372-c2c7d27d01c9"
      },
      "cell_type": "code",
      "source": [
        "print(np.argmax(y_pred, axis=1))"
      ],
      "execution_count": 59,
      "outputs": [
        {
          "output_type": "stream",
          "text": [
            "[2]\n"
          ],
          "name": "stdout"
        }
      ]
    },
    {
      "metadata": {
        "id": "kBkHnuknuY5e",
        "colab_type": "code",
        "colab": {}
      },
      "cell_type": "code",
      "source": [
        ""
      ],
      "execution_count": 0,
      "outputs": []
    }
  ]
}