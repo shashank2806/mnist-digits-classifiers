{
  "nbformat": 4,
  "nbformat_minor": 0,
  "metadata": {
    "colab": {
      "name": "CNN_Keras.ipynb",
      "version": "0.3.2",
      "provenance": [],
      "collapsed_sections": [],
      "include_colab_link": true
    },
    "kernelspec": {
      "name": "python3",
      "display_name": "Python 3"
    }
  },
  "cells": [
    {
      "cell_type": "markdown",
      "metadata": {
        "id": "view-in-github",
        "colab_type": "text"
      },
      "source": [
        "[View in Colaboratory](https://colab.research.google.com/github/shashank2806/mnist-digits-classifiers/blob/master/CNN_Keras.ipynb)"
      ]
    },
    {
      "metadata": {
        "id": "M2N3Ly540iRH",
        "colab_type": "text"
      },
      "cell_type": "markdown",
      "source": [
        "#CNN in Keras"
      ]
    },
    {
      "metadata": {
        "id": "1XpSpmwX8Dfz",
        "colab_type": "text"
      },
      "cell_type": "markdown",
      "source": [
        "Earlier we have built linear model and CNN in native TensorFlow. In this notebook we are going to use Keras API."
      ]
    },
    {
      "metadata": {
        "id": "KRZ_jgwDCNaO",
        "colab_type": "text"
      },
      "cell_type": "markdown",
      "source": [
        "###Imports"
      ]
    },
    {
      "metadata": {
        "id": "pPsmZb3yEnyV",
        "colab_type": "code",
        "colab": {}
      },
      "cell_type": "code",
      "source": [
        "%matplotlib inline\n",
        "import matplotlib.pyplot as plt\n",
        "import tensorflow as tf\n",
        "import numpy as np\n",
        "import math"
      ],
      "execution_count": 0,
      "outputs": []
    },
    {
      "metadata": {
        "id": "1ne5iXxzEu08",
        "colab_type": "code",
        "colab": {}
      },
      "cell_type": "code",
      "source": [
        "# import keras model and layers\n",
        "from keras.models import Sequential\n",
        "from keras.layers import InputLayer, Input, Conv2D, Dense, Flatten, Reshape, MaxPooling2D"
      ],
      "execution_count": 0,
      "outputs": []
    },
    {
      "metadata": {
        "id": "2sJeUAjVFjIq",
        "colab_type": "code",
        "colab": {
          "base_uri": "https://localhost:8080/",
          "height": 104
        },
        "outputId": "c93349ec-b43d-4b18-8326-11c1b7781cfb"
      },
      "cell_type": "code",
      "source": [
        "# workaround for google colab\n",
        "import os\n",
        "work_dir = \"/content/mnist-digits-classifiers/\" \n",
        "if os.getcwd() != work_dir:\n",
        "  !git clone https://github.com/shashank2806/mnist-digits-classifiers\n",
        "os.chdir(work_dir)"
      ],
      "execution_count": 4,
      "outputs": [
        {
          "output_type": "stream",
          "text": [
            "Cloning into 'mnist-digits-classifiers'...\n",
            "remote: Counting objects: 64, done.\u001b[K\n",
            "remote: Compressing objects: 100% (62/62), done.\u001b[K\n",
            "remote: Total 64 (delta 34), reused 5 (delta 0), pack-reused 0\u001b[K\n",
            "Unpacking objects: 100% (64/64), done.\n"
          ],
          "name": "stdout"
        }
      ]
    },
    {
      "metadata": {
        "id": "V63S8YsNGJ11",
        "colab_type": "code",
        "colab": {
          "base_uri": "https://localhost:8080/",
          "height": 34
        },
        "outputId": "3fc2aed3-d0db-43a1-dbae-091cf90fdab4"
      },
      "cell_type": "code",
      "source": [
        "# tensorflow version\n",
        "tf.__version__"
      ],
      "execution_count": 5,
      "outputs": [
        {
          "output_type": "execute_result",
          "data": {
            "text/plain": [
              "'1.10.1'"
            ]
          },
          "metadata": {
            "tags": []
          },
          "execution_count": 5
        }
      ]
    },
    {
      "metadata": {
        "id": "5NDTD34KGS1Z",
        "colab_type": "text"
      },
      "cell_type": "markdown",
      "source": [
        "###Load data"
      ]
    },
    {
      "metadata": {
        "id": "c5TkHIGPGYDn",
        "colab_type": "text"
      },
      "cell_type": "markdown",
      "source": [
        "We are using MNIST dataset which is about 12 MB"
      ]
    },
    {
      "metadata": {
        "id": "HytSc9a8Gnm2",
        "colab_type": "code",
        "colab": {
          "base_uri": "https://localhost:8080/",
          "height": 156
        },
        "outputId": "690df91a-959d-47a9-ae6b-c9242cbea54d"
      },
      "cell_type": "code",
      "source": [
        "# Download MNIST data-set\n",
        "from mnist import MNIST\n",
        "data = MNIST(data_dir=\"data/MNIST/\")"
      ],
      "execution_count": 6,
      "outputs": [
        {
          "output_type": "stream",
          "text": [
            "Downloading train-images-idx3-ubyte.gz ...\n",
            "- Download progress: 100.0% Done!\n",
            "Downloading train-labels-idx1-ubyte.gz ...\n",
            "- Download progress: 100.0% Done!\n",
            "Downloading t10k-images-idx3-ubyte.gz ...\n",
            "- Download progress: 100.0% Done!\n",
            "Downloading t10k-labels-idx1-ubyte.gz ...\n",
            "- Download progress: 100.0% Done!\n"
          ],
          "name": "stdout"
        }
      ]
    },
    {
      "metadata": {
        "id": "qcD3kDfwGszp",
        "colab_type": "text"
      },
      "cell_type": "markdown",
      "source": [
        "###Visualsize data"
      ]
    },
    {
      "metadata": {
        "id": "8nzpigRLG3Y4",
        "colab_type": "code",
        "colab": {
          "base_uri": "https://localhost:8080/",
          "height": 86
        },
        "outputId": "b10477fd-c847-4254-ec5c-945b41ddc9b7"
      },
      "cell_type": "code",
      "source": [
        "print(\"Size of:\")\n",
        "print(\"- Training-set:\\t\\t{}\".format(data.num_train))\n",
        "print(\"- Validation-set:\\t{}\".format(data.num_val))\n",
        "print(\"- Test-set:\\t\\t{}\".format(data.num_test))"
      ],
      "execution_count": 7,
      "outputs": [
        {
          "output_type": "stream",
          "text": [
            "Size of:\n",
            "- Training-set:\t\t55000\n",
            "- Validation-set:\t5000\n",
            "- Test-set:\t\t10000\n"
          ],
          "name": "stdout"
        }
      ]
    },
    {
      "metadata": {
        "id": "12Hi2lfAG6Yz",
        "colab_type": "code",
        "colab": {}
      },
      "cell_type": "code",
      "source": [
        ""
      ],
      "execution_count": 0,
      "outputs": []
    }
  ]
}