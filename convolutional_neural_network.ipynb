{
  "nbformat": 4,
  "nbformat_minor": 0,
  "metadata": {
    "colab": {
      "name": "convolutional_neural_network.ipynb",
      "version": "0.3.2",
      "provenance": [],
      "collapsed_sections": [],
      "include_colab_link": true
    },
    "kernelspec": {
      "name": "python3",
      "display_name": "Python 3"
    },
    "accelerator": "GPU"
  },
  "cells": [
    {
      "cell_type": "markdown",
      "metadata": {
        "id": "view-in-github",
        "colab_type": "text"
      },
      "source": [
        "[View in Colaboratory](https://colab.research.google.com/github/shashank2806/mnist-digits-classifiers/blob/master/convolutional_neural_network.ipynb)"
      ]
    },
    {
      "metadata": {
        "id": "a6Fzu3DtEd-R",
        "colab_type": "text"
      },
      "cell_type": "markdown",
      "source": [
        "#Convolutional Neural Network"
      ]
    },
    {
      "metadata": {
        "id": "7aCmkKo-EuhD",
        "colab_type": "text"
      },
      "cell_type": "markdown",
      "source": [
        "We earlier used linear model on mnist data and got around 92% test accuracy.\n",
        "\n",
        "In this notebook we will implement CNN in TensorFlow for classification."
      ]
    },
    {
      "metadata": {
        "id": "isvnxiJjGfCl",
        "colab_type": "text"
      },
      "cell_type": "markdown",
      "source": [
        "##Imports"
      ]
    },
    {
      "metadata": {
        "id": "iYafOy2uOtxD",
        "colab_type": "code",
        "colab": {}
      },
      "cell_type": "code",
      "source": [
        "%matplotlib inline\n",
        "import matplotlib.pyplot as plt\n",
        "import tensorflow as tf\n",
        "import numpy as np\n",
        "import math"
      ],
      "execution_count": 0,
      "outputs": []
    },
    {
      "metadata": {
        "id": "WIczHbuvHanz",
        "colab_type": "text"
      },
      "cell_type": "markdown",
      "source": [
        "This notebook was developed using Google Colab using python 3.6 and TensorFlow version:"
      ]
    },
    {
      "metadata": {
        "id": "nq_2RKJtHv8N",
        "colab_type": "code",
        "colab": {
          "base_uri": "https://localhost:8080/",
          "height": 34
        },
        "outputId": "ca2ecc2b-b182-41f2-e9b3-e452ce238091"
      },
      "cell_type": "code",
      "source": [
        "tf.__version__"
      ],
      "execution_count": 27,
      "outputs": [
        {
          "output_type": "execute_result",
          "data": {
            "text/plain": [
              "'1.10.0'"
            ]
          },
          "metadata": {
            "tags": []
          },
          "execution_count": 27
        }
      ]
    },
    {
      "metadata": {
        "id": "ojCu7dRsHylX",
        "colab_type": "text"
      },
      "cell_type": "markdown",
      "source": [
        "###Load Data"
      ]
    },
    {
      "metadata": {
        "id": "-zeWliHymoDj",
        "colab_type": "code",
        "colab": {
          "base_uri": "https://localhost:8080/",
          "height": 104
        },
        "outputId": "6184b2ff-80eb-4420-c90e-9d7f0c0de4ae"
      },
      "cell_type": "code",
      "source": [
        "# workaround for google colab\n",
        "import os\n",
        "work_dir = \"/content/mnist-digits-classifiers/\" \n",
        "if os.getcwd() != work_dir:\n",
        "  !git clone https://github.com/shashank2806/mnist-digits-classifiers\n",
        "os.chdir(work_dir)\n"
      ],
      "execution_count": 28,
      "outputs": [
        {
          "output_type": "stream",
          "text": [
            "Cloning into 'mnist-digits-classifiers'...\n",
            "remote: Counting objects: 49, done.\u001b[K\n",
            "remote: Compressing objects: 100% (47/47), done.\u001b[K\n",
            "remote: Total 49 (delta 25), reused 5 (delta 0), pack-reused 0\u001b[K\n",
            "Unpacking objects: 100% (49/49), done.\n"
          ],
          "name": "stdout"
        }
      ]
    },
    {
      "metadata": {
        "id": "aNiIHvdkm58n",
        "colab_type": "code",
        "colab": {}
      },
      "cell_type": "code",
      "source": [
        "from mnist import MNIST\n",
        "data = MNIST(data_dir=\"data/MNIST/\")"
      ],
      "execution_count": 0,
      "outputs": []
    },
    {
      "metadata": {
        "id": "xS6tY7XdnCw1",
        "colab_type": "code",
        "colab": {
          "base_uri": "https://localhost:8080/",
          "height": 86
        },
        "outputId": "587fa49f-e3f2-49cc-8813-3f47c0b3ed54"
      },
      "cell_type": "code",
      "source": [
        "print(\"Size of:\")\n",
        "print(\"- Training-set:\\t\\t{}\".format(data.num_train))\n",
        "print(\"- Validation-set:\\t{}\".format(data.num_val))\n",
        "print(\"- Test-set:\\t\\t{}\".format(data.num_test))"
      ],
      "execution_count": 30,
      "outputs": [
        {
          "output_type": "stream",
          "text": [
            "Size of:\n",
            "- Training-set:\t\t55000\n",
            "- Validation-set:\t5000\n",
            "- Test-set:\t\t10000\n"
          ],
          "name": "stdout"
        }
      ]
    },
    {
      "metadata": {
        "id": "XtwoNnYWnFo_",
        "colab_type": "code",
        "colab": {
          "base_uri": "https://localhost:8080/",
          "height": 34
        },
        "outputId": "bf33f52f-f937-4e90-c56c-dcbf550ae151"
      },
      "cell_type": "code",
      "source": [
        "# The number of pixels in each dimension of an image.\n",
        "img_size = data.img_size\n",
        "\n",
        "# The images are stored in one-dimensional arrays of this length.\n",
        "img_size_flat = data.img_size_flat\n",
        "\n",
        "# Tuple with height and width of images used to reshape arrays.\n",
        "img_shape = data.img_shape\n",
        "\n",
        "# Number of classes, one class for each of 10 digits.\n",
        "num_classes = data.num_classes\n",
        "\n",
        "# Number of colour channels for the images: 1 channel for gray-scale.\n",
        "num_channels = data.num_channels\n",
        "\n",
        "img_size, img_size_flat, img_shape, num_channels"
      ],
      "execution_count": 31,
      "outputs": [
        {
          "output_type": "execute_result",
          "data": {
            "text/plain": [
              "(28, 784, (28, 28), 1)"
            ]
          },
          "metadata": {
            "tags": []
          },
          "execution_count": 31
        }
      ]
    },
    {
      "metadata": {
        "id": "O-Ry2oXcnjC_",
        "colab_type": "text"
      },
      "cell_type": "markdown",
      "source": [
        "###Helper function for plotting Image"
      ]
    },
    {
      "metadata": {
        "id": "jNCYpw0ln2Pu",
        "colab_type": "code",
        "colab": {}
      },
      "cell_type": "code",
      "source": [
        "# https://github.com/Hvass-Labs/TensorFlow-Tutorials/blob/master/01_Simple_Linear_Model.ipynb\n",
        "def plot_images(images, cls_true, cls_pred=None):\n",
        "    assert len(images) == len(cls_true) == 9\n",
        "    \n",
        "    # Create figure with 3x3 sub-plots.\n",
        "    fig, axes = plt.subplots(3, 3)\n",
        "    fig.subplots_adjust(hspace=0.3, wspace=0.3)\n",
        "\n",
        "    for i, ax in enumerate(axes.flat):\n",
        "        # Plot image.\n",
        "        ax.imshow(images[i].reshape(img_shape), cmap='binary')\n",
        "\n",
        "        # Show true and predicted classes.\n",
        "        if cls_pred is None:\n",
        "            xlabel = \"True: {0}\".format(cls_true[i])\n",
        "        else:\n",
        "            xlabel = \"True: {0}, Pred: {1}\".format(cls_true[i], cls_pred[i])\n",
        "\n",
        "        ax.set_xlabel(xlabel)\n",
        "        \n",
        "        # Remove ticks from the plot.\n",
        "        ax.set_xticks([])\n",
        "        ax.set_yticks([])\n",
        "        \n",
        "    # Ensure the plot is shown correctly with multiple plots\n",
        "    # in a single Notebook cell.\n",
        "    plt.show()"
      ],
      "execution_count": 0,
      "outputs": []
    },
    {
      "metadata": {
        "id": "6uonmXy2n9Hh",
        "colab_type": "text"
      },
      "cell_type": "markdown",
      "source": [
        "Plot few Images"
      ]
    },
    {
      "metadata": {
        "id": "AVcLIIr7oN58",
        "colab_type": "code",
        "colab": {
          "base_uri": "https://localhost:8080/",
          "height": 262
        },
        "outputId": "ce282e87-c035-43aa-c4c8-86fb8d78c8be"
      },
      "cell_type": "code",
      "source": [
        "images = data.x_test[0:9]\n",
        "cls_true = data.y_test_cls[0:9]\n",
        "plot_images(images=images, cls_true=cls_true)"
      ],
      "execution_count": 33,
      "outputs": [
        {
          "output_type": "display_data",
          "data": {
            "image/png": "[encoded data removed]",
            "text/plain": [
              "<matplotlib.figure.Figure at 0x7fb87d2f10b8>"
            ]
          },
          "metadata": {
            "tags": []
          }
        }
      ]
    },
    {
      "metadata": {
        "id": "VnP83ZZkoT-l",
        "colab_type": "text"
      },
      "cell_type": "markdown",
      "source": [
        "##TF Graph"
      ]
    },
    {
      "metadata": {
        "id": "39PdFbTrq9YQ",
        "colab_type": "text"
      },
      "cell_type": "markdown",
      "source": [
        "We are going to build a CNN with 2 Conv layers, and 1 fully connected layer having following dimensions."
      ]
    },
    {
      "metadata": {
        "id": "BLJWD1dSrfV2",
        "colab_type": "code",
        "colab": {}
      },
      "cell_type": "code",
      "source": [
        "# Convolutional Layer 1.\n",
        "filter_size1 = 5          # Convolution filters are 5 x 5 pixels.\n",
        "num_filters1 = 16         # There are 16 of these filters.\n",
        "\n",
        "# Convolutional Layer 2.\n",
        "filter_size2 = 5          # Convolution filters are 5 x 5 pixels.\n",
        "num_filters2 = 36         # There are 36 of these filters.\n",
        "\n",
        "# Fully-connected layer.\n",
        "fc_size = 128             # Number of neurons in fully-connected layer."
      ],
      "execution_count": 0,
      "outputs": []
    },
    {
      "metadata": {
        "id": "RdyIB99o0GMY",
        "colab_type": "text"
      },
      "cell_type": "markdown",
      "source": [
        "Function for new weights and biases using Xavier initialization"
      ]
    },
    {
      "metadata": {
        "id": "6Gchv5ggsg4c",
        "colab_type": "code",
        "colab": {}
      },
      "cell_type": "code",
      "source": [
        "def new_weights(shape):\n",
        "#   return tf.Variable(tf.contrib.layers.xavier_initializer(shape))\n",
        "  return tf.Variable(tf.truncated_normal(shape, stddev=0.05))\n",
        "\n",
        "def new_biases(length):\n",
        "    return tf.Variable(tf.constant(0.05, shape=[length]))"
      ],
      "execution_count": 0,
      "outputs": []
    },
    {
      "metadata": {
        "id": "XZh76Xvgtjh4",
        "colab_type": "text"
      },
      "cell_type": "markdown",
      "source": [
        "Function of creating new conv layer."
      ]
    },
    {
      "metadata": {
        "id": "aq5NFq6RBgy0",
        "colab_type": "code",
        "colab": {}
      },
      "cell_type": "code",
      "source": [
        "def new_conv_layer(input,\n",
        "                  num_input_channels,\n",
        "                  filter_size,\n",
        "                  num_filters,\n",
        "                  use_pooling=True):\n",
        "  # Shape of filter weights for convolution\n",
        "  # Format determined by TensorFlow API\n",
        "  shape = [filter_size, filter_size, num_input_channels, num_filters]\n",
        "  \n",
        "  # create new weights with given shape\n",
        "  weights = new_weights(shape=shape)\n",
        "  \n",
        "  # create biases, one for each filter\n",
        "  biases = new_biases(length=num_filters)\n",
        "  \n",
        "  # stride = 1, padding = SAME\n",
        "  layer = tf.nn.conv2d(input=input,\n",
        "                      filter=weights,\n",
        "                      strides=[1,1,1,1],\n",
        "                      padding='SAME')\n",
        "  \n",
        "  # A bias-value is added to each filter-channel.\n",
        "  layer += biases\n",
        "  \n",
        "  # 2*2 max pooling with stride of 2 \n",
        "  if use_pooling:\n",
        "    layer = tf.nn.max_pool(value=layer,\n",
        "                          ksize=[1,2,2,1],   # for 2*2 pooling\n",
        "                          strides=[1,2,2,1],  # for stride of 2\n",
        "                          padding='SAME')\n",
        "    \n",
        "  # add relu non-linearity\n",
        "  layer = tf.nn.relu(layer)\n",
        "  \n",
        "  return layer"
      ],
      "execution_count": 0,
      "outputs": []
    },
    {
      "metadata": {
        "id": "kzm-j4MRXu_o",
        "colab_type": "text"
      },
      "cell_type": "markdown",
      "source": [
        "###Function for flattening a layer"
      ]
    },
    {
      "metadata": {
        "id": "A-Enx2qgcCrP",
        "colab_type": "code",
        "colab": {}
      },
      "cell_type": "code",
      "source": [
        "def flatten_layer(layer):\n",
        "  layer_shape = layer.get_shape()\n",
        "  \n",
        "  # layer_shape == [num_images, img_height, img_width, num_channels]\n",
        "  num_features = layer_shape[1:4].num_elements()\n",
        "  \n",
        "  # reshape layer to (num_images, img_height * img_width * num_channels)\n",
        "  layer_flat = tf.reshape(layer, [-1, num_features])\n",
        "  \n",
        "  return layer_flat, num_features"
      ],
      "execution_count": 0,
      "outputs": []
    },
    {
      "metadata": {
        "id": "gXHuE0eeeF47",
        "colab_type": "text"
      },
      "cell_type": "markdown",
      "source": [
        "### Function for fully connected layer"
      ]
    },
    {
      "metadata": {
        "id": "cRCxCa1BCY7j",
        "colab_type": "code",
        "colab": {}
      },
      "cell_type": "code",
      "source": [
        "def new_fc_layer(input,\n",
        "                num_inputs,\n",
        "                num_outputs,\n",
        "                use_relu=True):\n",
        "  \n",
        "  weights = new_weights(shape=[num_inputs, num_outputs])\n",
        "  biases = new_biases(length=num_outputs)\n",
        "  \n",
        "  layer = tf.matmul(input, weights) + biases\n",
        "  \n",
        "  if use_relu:\n",
        "    layer = tf.nn.relu(layer)\n",
        "    \n",
        "  return layer"
      ],
      "execution_count": 0,
      "outputs": []
    },
    {
      "metadata": {
        "id": "zl7QMvm9IkKZ",
        "colab_type": "text"
      },
      "cell_type": "markdown",
      "source": [
        "###Placeholder Variable"
      ]
    },
    {
      "metadata": {
        "id": "e44mIriaIrW6",
        "colab_type": "code",
        "colab": {}
      },
      "cell_type": "code",
      "source": [
        "x = tf.placeholder(tf.float32, shape=[None, img_size_flat])"
      ],
      "execution_count": 0,
      "outputs": []
    },
    {
      "metadata": {
        "id": "RWwpxIoHOKs_",
        "colab_type": "code",
        "colab": {}
      },
      "cell_type": "code",
      "source": [
        "x_image = tf.reshape(x, [-1, img_size, img_size, num_channels])"
      ],
      "execution_count": 0,
      "outputs": []
    },
    {
      "metadata": {
        "id": "f9HNvX_RW_vY",
        "colab_type": "code",
        "colab": {}
      },
      "cell_type": "code",
      "source": [
        "y_true = tf.placeholder(tf.float32, shape=[None, num_classes])"
      ],
      "execution_count": 0,
      "outputs": []
    },
    {
      "metadata": {
        "id": "50OpiYmsPIVa",
        "colab_type": "code",
        "colab": {}
      },
      "cell_type": "code",
      "source": [
        "y_true_cls = tf.argmax(y_true, axis=1)"
      ],
      "execution_count": 0,
      "outputs": []
    },
    {
      "metadata": {
        "id": "54XB95-QWPyR",
        "colab_type": "text"
      },
      "cell_type": "markdown",
      "source": [
        "###Conv layer 1"
      ]
    },
    {
      "metadata": {
        "id": "rSR9zT5iXU_2",
        "colab_type": "code",
        "colab": {}
      },
      "cell_type": "code",
      "source": [
        "# conv layer 1\n",
        "layer_conv1 = new_conv_layer(input=x_image,\n",
        "                            num_input_channels=num_channels,\n",
        "                            filter_size=filter_size1,\n",
        "                            num_filters=num_filters1,\n",
        "                            use_pooling=True)"
      ],
      "execution_count": 0,
      "outputs": []
    },
    {
      "metadata": {
        "id": "N3Fwfv47aPRu",
        "colab_type": "code",
        "colab": {
          "base_uri": "https://localhost:8080/",
          "height": 34
        },
        "outputId": "0967a539-d21f-4324-f504-1f90c98eee32"
      },
      "cell_type": "code",
      "source": [
        "# size of output of conv layer 1\n",
        "layer_conv1"
      ],
      "execution_count": 46,
      "outputs": [
        {
          "output_type": "execute_result",
          "data": {
            "text/plain": [
              "<tf.Tensor 'Relu:0' shape=(?, 14, 14, 16) dtype=float32>"
            ]
          },
          "metadata": {
            "tags": []
          },
          "execution_count": 46
        }
      ]
    },
    {
      "metadata": {
        "id": "wbNWeRCKdVMW",
        "colab_type": "text"
      },
      "cell_type": "markdown",
      "source": [
        "###Conv Layer 2"
      ]
    },
    {
      "metadata": {
        "id": "Cqz42Ci6ddxf",
        "colab_type": "code",
        "colab": {}
      },
      "cell_type": "code",
      "source": [
        "# Conv layer 2\n",
        "layer_conv2 = new_conv_layer(input=layer_conv1,\n",
        "                            num_input_channels=num_filters1,\n",
        "                            filter_size=filter_size2,\n",
        "                            num_filters=num_filters2,\n",
        "                            use_pooling=True)"
      ],
      "execution_count": 0,
      "outputs": []
    },
    {
      "metadata": {
        "id": "XBP2kLvbeMFG",
        "colab_type": "code",
        "colab": {
          "base_uri": "https://localhost:8080/",
          "height": 34
        },
        "outputId": "3941b2f3-8e04-4e01-91c6-6f7c4cb7c34c"
      },
      "cell_type": "code",
      "source": [
        "# size of output of conv layer 2\n",
        "layer_conv2"
      ],
      "execution_count": 49,
      "outputs": [
        {
          "output_type": "execute_result",
          "data": {
            "text/plain": [
              "<tf.Tensor 'Relu_1:0' shape=(?, 7, 7, 36) dtype=float32>"
            ]
          },
          "metadata": {
            "tags": []
          },
          "execution_count": 49
        }
      ]
    },
    {
      "metadata": {
        "id": "uB9s-DjUe4uy",
        "colab_type": "text"
      },
      "cell_type": "markdown",
      "source": [
        "###Flatten Layer"
      ]
    },
    {
      "metadata": {
        "id": "78BRLz7kf7ZH",
        "colab_type": "code",
        "colab": {}
      },
      "cell_type": "code",
      "source": [
        "# Flatten layers for feeding in fully connected layer\n",
        "layer_flat, num_features = flatten_layer(layer_conv2)"
      ],
      "execution_count": 0,
      "outputs": []
    },
    {
      "metadata": {
        "id": "PmzgBQIbhV5W",
        "colab_type": "code",
        "colab": {
          "base_uri": "https://localhost:8080/",
          "height": 34
        },
        "outputId": "1ec0fc4e-b722-4cf4-f01c-33717ac07f1d"
      },
      "cell_type": "code",
      "source": [
        "layer_flat"
      ],
      "execution_count": 52,
      "outputs": [
        {
          "output_type": "execute_result",
          "data": {
            "text/plain": [
              "<tf.Tensor 'Reshape_2:0' shape=(?, 1764) dtype=float32>"
            ]
          },
          "metadata": {
            "tags": []
          },
          "execution_count": 52
        }
      ]
    },
    {
      "metadata": {
        "id": "h2KQfD_5hXNT",
        "colab_type": "code",
        "colab": {
          "base_uri": "https://localhost:8080/",
          "height": 34
        },
        "outputId": "b9c18a93-3ebf-4a8e-d43c-b9724edf6c06"
      },
      "cell_type": "code",
      "source": [
        "num_features"
      ],
      "execution_count": 53,
      "outputs": [
        {
          "output_type": "execute_result",
          "data": {
            "text/plain": [
              "1764"
            ]
          },
          "metadata": {
            "tags": []
          },
          "execution_count": 53
        }
      ]
    },
    {
      "metadata": {
        "id": "dqMexAuuhgg1",
        "colab_type": "text"
      },
      "cell_type": "markdown",
      "source": [
        "###Fully connected layer 1"
      ]
    },
    {
      "metadata": {
        "id": "9ILYDrIBi2y3",
        "colab_type": "code",
        "colab": {}
      },
      "cell_type": "code",
      "source": [
        "layer_fc1 = new_fc_layer(input=layer_flat,\n",
        "                        num_inputs=num_features,\n",
        "                        num_outputs=fc_size,\n",
        "                        use_relu=True)"
      ],
      "execution_count": 0,
      "outputs": []
    },
    {
      "metadata": {
        "id": "gB2zpQ5TszHv",
        "colab_type": "code",
        "colab": {
          "base_uri": "https://localhost:8080/",
          "height": 34
        },
        "outputId": "941afa78-0622-46dc-aff4-762945cddd40"
      },
      "cell_type": "code",
      "source": [
        "layer_fc1"
      ],
      "execution_count": 64,
      "outputs": [
        {
          "output_type": "execute_result",
          "data": {
            "text/plain": [
              "<tf.Tensor 'Relu_3:0' shape=(?, 128) dtype=float32>"
            ]
          },
          "metadata": {
            "tags": []
          },
          "execution_count": 64
        }
      ]
    },
    {
      "metadata": {
        "id": "Lveop3rztMok",
        "colab_type": "text"
      },
      "cell_type": "markdown",
      "source": [
        "###Fully connected layer 2"
      ]
    },
    {
      "metadata": {
        "id": "ETZ-GuEDtWks",
        "colab_type": "code",
        "colab": {}
      },
      "cell_type": "code",
      "source": [
        "layer_fc2 = new_fc_layer(input=layer_fc1,\n",
        "                        num_inputs=fc_size,\n",
        "                        num_outputs=num_classes,\n",
        "                        use_relu=False)"
      ],
      "execution_count": 0,
      "outputs": []
    },
    {
      "metadata": {
        "id": "ouQ08P0dtnDe",
        "colab_type": "code",
        "colab": {
          "base_uri": "https://localhost:8080/",
          "height": 34
        },
        "outputId": "5a28bea5-0852-43eb-ebf8-c0b5b68a4a74"
      },
      "cell_type": "code",
      "source": [
        "layer_fc2"
      ],
      "execution_count": 66,
      "outputs": [
        {
          "output_type": "execute_result",
          "data": {
            "text/plain": [
              "<tf.Tensor 'add_5:0' shape=(?, 10) dtype=float32>"
            ]
          },
          "metadata": {
            "tags": []
          },
          "execution_count": 66
        }
      ]
    },
    {
      "metadata": {
        "id": "brWCTxuttucr",
        "colab_type": "code",
        "colab": {}
      },
      "cell_type": "code",
      "source": [
        ""
      ],
      "execution_count": 0,
      "outputs": []
    }
  ]
}