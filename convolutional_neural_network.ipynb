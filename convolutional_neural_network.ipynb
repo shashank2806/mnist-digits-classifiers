{
  "nbformat": 4,
  "nbformat_minor": 0,
  "metadata": {
    "colab": {
      "name": "convolutional_neural_network.ipynb",
      "version": "0.3.2",
      "provenance": [],
      "collapsed_sections": [],
      "include_colab_link": true
    },
    "kernelspec": {
      "name": "python3",
      "display_name": "Python 3"
    },
    "accelerator": "GPU"
  },
  "cells": [
    {
      "cell_type": "markdown",
      "metadata": {
        "id": "view-in-github",
        "colab_type": "text"
      },
      "source": [
        "[View in Colaboratory](https://colab.research.google.com/github/shashank2806/mnist-digits-classifiers/blob/master/convolutional_neural_network.ipynb)"
      ]
    },
    {
      "metadata": {
        "id": "a6Fzu3DtEd-R",
        "colab_type": "text"
      },
      "cell_type": "markdown",
      "source": [
        "#Convolutional Neural Network"
      ]
    },
    {
      "metadata": {
        "id": "7aCmkKo-EuhD",
        "colab_type": "text"
      },
      "cell_type": "markdown",
      "source": [
        "We earlier used linear model on mnist data and got around 92% test accuracy.\n",
        "\n",
        "In this notebook we will implement CNN in TensorFlow for classification."
      ]
    },
    {
      "metadata": {
        "id": "isvnxiJjGfCl",
        "colab_type": "text"
      },
      "cell_type": "markdown",
      "source": [
        "##Imports"
      ]
    },
    {
      "metadata": {
        "id": "iYafOy2uOtxD",
        "colab_type": "code",
        "colab": {}
      },
      "cell_type": "code",
      "source": [
        "%matplotlib inline\n",
        "import matplotlib.pyplot as plt\n",
        "import tensorflow as tf\n",
        "import numpy as np\n",
        "import math"
      ],
      "execution_count": 0,
      "outputs": []
    },
    {
      "metadata": {
        "id": "WIczHbuvHanz",
        "colab_type": "text"
      },
      "cell_type": "markdown",
      "source": [
        "This notebook was developed using Google Colab using python 3.6 and TensorFlow version:"
      ]
    },
    {
      "metadata": {
        "id": "nq_2RKJtHv8N",
        "colab_type": "code",
        "colab": {
          "base_uri": "https://localhost:8080/",
          "height": 34
        },
        "outputId": "2df75952-b61b-42a4-c967-0671fee9aaa9"
      },
      "cell_type": "code",
      "source": [
        "tf.__version__"
      ],
      "execution_count": 3,
      "outputs": [
        {
          "output_type": "execute_result",
          "data": {
            "text/plain": [
              "'1.10.0'"
            ]
          },
          "metadata": {
            "tags": []
          },
          "execution_count": 3
        }
      ]
    },
    {
      "metadata": {
        "id": "ojCu7dRsHylX",
        "colab_type": "text"
      },
      "cell_type": "markdown",
      "source": [
        "###Load Data"
      ]
    }
  ]
}