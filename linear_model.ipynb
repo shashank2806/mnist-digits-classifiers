{
  "nbformat": 4,
  "nbformat_minor": 0,
  "metadata": {
    "colab": {
      "name": "linear-model.ipynb",
      "version": "0.3.2",
      "provenance": [],
      "collapsed_sections": [],
      "include_colab_link": true
    },
    "kernelspec": {
      "name": "python3",
      "display_name": "Python 3"
    },
    "accelerator": "GPU"
  },
  "cells": [
    {
      "cell_type": "markdown",
      "metadata": {
        "id": "view-in-github",
        "colab_type": "text"
      },
      "source": [
        "[View in Colaboratory](https://colab.research.google.com/github/shashank2806/mnist-digits-classifiers/blob/master/linear_model.ipynb)"
      ]
    },
    {
      "metadata": {
        "id": "PYXrNOP9HQD6",
        "colab_type": "text"
      },
      "cell_type": "markdown",
      "source": [
        "##Imports"
      ]
    },
    {
      "metadata": {
        "id": "6-msGtnGHQmC",
        "colab_type": "code",
        "colab": {}
      },
      "cell_type": "code",
      "source": [
        "%matplotlib inline\n",
        "import matplotlib.pyplot as plt\n",
        "import tensorflow as tf\n",
        "import numpy as np"
      ],
      "execution_count": 0,
      "outputs": []
    },
    {
      "metadata": {
        "id": "L0QuALIqHi8Y",
        "colab_type": "code",
        "colab": {
          "base_uri": "https://localhost:8080/",
          "height": 34
        },
        "outputId": "eafc161a-ef92-4287-fa62-f1d46ba56a22"
      },
      "cell_type": "code",
      "source": [
        "import os\n",
        "work_dir = \"/content/mnist-digits-classifiers/\" \n",
        "if os.getcwd() != work_dir:\n",
        "  !git clone https://github.com/shashank2806/mnist-digits-classifiers\n",
        "os.chdir(work_dir)"
      ],
      "execution_count": 33,
      "outputs": [
        {
          "output_type": "stream",
          "text": [
            "fatal: destination path 'mnist-digits-classifiers' already exists and is not an empty directory.\r\n"
          ],
          "name": "stdout"
        }
      ]
    },
    {
      "metadata": {
        "id": "_ZRa585uKMXk",
        "colab_type": "code",
        "colab": {}
      },
      "cell_type": "code",
      "source": [
        "from mnist import MNIST\n",
        "data = MNIST(data_dir=\"data/MNIST/\")"
      ],
      "execution_count": 0,
      "outputs": []
    },
    {
      "metadata": {
        "id": "BkeBzz7cKotO",
        "colab_type": "code",
        "colab": {
          "base_uri": "https://localhost:8080/",
          "height": 86
        },
        "outputId": "afd44350-d5b7-4b50-f2ad-30f75c165145"
      },
      "cell_type": "code",
      "source": [
        "print(\"Size of:\")\n",
        "print(\"- Training-set:\\t\\t{}\".format(data.num_train))\n",
        "print(\"- Validation-set:\\t{}\".format(data.num_val))\n",
        "print(\"- Test-set:\\t\\t{}\".format(data.num_test))"
      ],
      "execution_count": 35,
      "outputs": [
        {
          "output_type": "stream",
          "text": [
            "Size of:\n",
            "- Training-set:\t\t55000\n",
            "- Validation-set:\t5000\n",
            "- Test-set:\t\t10000\n"
          ],
          "name": "stdout"
        }
      ]
    },
    {
      "metadata": {
        "id": "CGrJrNkbNp0g",
        "colab_type": "text"
      },
      "cell_type": "markdown",
      "source": [
        "##process data"
      ]
    },
    {
      "metadata": {
        "id": "kQB5bUIWNpQb",
        "colab_type": "code",
        "colab": {
          "base_uri": "https://localhost:8080/",
          "height": 34
        },
        "outputId": "33cce5c2-f5e6-473c-b729-1e9a8b43a058"
      },
      "cell_type": "code",
      "source": [
        "#shape of each image\n",
        "img_shape = data.img_shape\n",
        "img_shape"
      ],
      "execution_count": 36,
      "outputs": [
        {
          "output_type": "execute_result",
          "data": {
            "text/plain": [
              "(28, 28)"
            ]
          },
          "metadata": {
            "tags": []
          },
          "execution_count": 36
        }
      ]
    },
    {
      "metadata": {
        "id": "pj8WmeZ7K1GX",
        "colab_type": "code",
        "colab": {
          "base_uri": "https://localhost:8080/",
          "height": 34
        },
        "outputId": "fb68d235-9558-44f5-9374-48cbdac37c72"
      },
      "cell_type": "code",
      "source": [
        "#flattened img size 28*28, stored in 1D array\n",
        "img_size_flat = data.img_size_flat\n",
        "\n",
        "img_size_flat"
      ],
      "execution_count": 37,
      "outputs": [
        {
          "output_type": "execute_result",
          "data": {
            "text/plain": [
              "784"
            ]
          },
          "metadata": {
            "tags": []
          },
          "execution_count": 37
        }
      ]
    },
    {
      "metadata": {
        "id": "1gViFbd_OosI",
        "colab_type": "code",
        "colab": {
          "base_uri": "https://localhost:8080/",
          "height": 34
        },
        "outputId": "17b97ee3-01ac-4252-99f4-51062e2740a1"
      },
      "cell_type": "code",
      "source": [
        "#number of classes in dataset\n",
        "num_classes = data.num_classes\n",
        "num_classes"
      ],
      "execution_count": 38,
      "outputs": [
        {
          "output_type": "execute_result",
          "data": {
            "text/plain": [
              "10"
            ]
          },
          "metadata": {
            "tags": []
          },
          "execution_count": 38
        }
      ]
    },
    {
      "metadata": {
        "id": "Kj4KgUuKoO-d",
        "colab_type": "text"
      },
      "cell_type": "markdown",
      "source": [
        "###Visualising one hot encoding of labels"
      ]
    },
    {
      "metadata": {
        "id": "DLw_2ISpTIpy",
        "colab_type": "code",
        "colab": {
          "base_uri": "https://localhost:8080/",
          "height": 104
        },
        "outputId": "8cb38fe3-efb0-4bba-be44-f6a12688ef6c"
      },
      "cell_type": "code",
      "source": [
        "#select top 5 rows of y_test labels\n",
        "data.y_test[:5, :]"
      ],
      "execution_count": 39,
      "outputs": [
        {
          "output_type": "execute_result",
          "data": {
            "text/plain": [
              "array([[0., 0., 0., 0., 0., 0., 0., 1., 0., 0.],\n",
              "       [0., 0., 1., 0., 0., 0., 0., 0., 0., 0.],\n",
              "       [0., 1., 0., 0., 0., 0., 0., 0., 0., 0.],\n",
              "       [1., 0., 0., 0., 0., 0., 0., 0., 0., 0.],\n",
              "       [0., 0., 0., 0., 1., 0., 0., 0., 0., 0.]])"
            ]
          },
          "metadata": {
            "tags": []
          },
          "execution_count": 39
        }
      ]
    },
    {
      "metadata": {
        "id": "_U2i4ETLof_Z",
        "colab_type": "code",
        "colab": {
          "base_uri": "https://localhost:8080/",
          "height": 34
        },
        "outputId": "29718fc1-51ba-4a9f-c2e7-91c16fe47c0d"
      },
      "cell_type": "code",
      "source": [
        "#correct output label classes for each image\n",
        "data.y_test_cls[:5]"
      ],
      "execution_count": 40,
      "outputs": [
        {
          "output_type": "execute_result",
          "data": {
            "text/plain": [
              "array([7, 2, 1, 0, 4])"
            ]
          },
          "metadata": {
            "tags": []
          },
          "execution_count": 40
        }
      ]
    },
    {
      "metadata": {
        "id": "PZTK9wSm1Z76",
        "colab_type": "text"
      },
      "cell_type": "markdown",
      "source": [
        "##Helper function for ploting images"
      ]
    },
    {
      "metadata": {
        "id": "N-J_XvPGo9qv",
        "colab_type": "code",
        "colab": {}
      },
      "cell_type": "code",
      "source": [
        "# https://github.com/Hvass-Labs/TensorFlow-Tutorials/blob/master/01_Simple_Linear_Model.ipynb\n",
        "def plot_images(images, cls_true, cls_pred=None):\n",
        "    assert len(images) == len(cls_true) == 9\n",
        "    \n",
        "    # Create figure with 3x3 sub-plots.\n",
        "    fig, axes = plt.subplots(3, 3)\n",
        "    fig.subplots_adjust(hspace=0.3, wspace=0.3)\n",
        "\n",
        "    for i, ax in enumerate(axes.flat):\n",
        "        # Plot image.\n",
        "        ax.imshow(images[i].reshape(img_shape), cmap='binary')\n",
        "\n",
        "        # Show true and predicted classes.\n",
        "        if cls_pred is None:\n",
        "            xlabel = \"True: {0}\".format(cls_true[i])\n",
        "        else:\n",
        "            xlabel = \"True: {0}, Pred: {1}\".format(cls_true[i], cls_pred[i])\n",
        "\n",
        "        ax.set_xlabel(xlabel)\n",
        "        \n",
        "        # Remove ticks from the plot.\n",
        "        ax.set_xticks([])\n",
        "        ax.set_yticks([])\n",
        "        \n",
        "    # Ensure the plot is shown correctly with multiple plots\n",
        "    # in a single Notebook cell.\n",
        "    plt.show()"
      ],
      "execution_count": 0,
      "outputs": []
    },
    {
      "metadata": {
        "id": "7AYaYrR45R5T",
        "colab_type": "text"
      },
      "cell_type": "markdown",
      "source": [
        "##Plot few images"
      ]
    },
    {
      "metadata": {
        "id": "z-mObLhW2A61",
        "colab_type": "code",
        "colab": {
          "base_uri": "https://localhost:8080/",
          "height": 262
        },
        "outputId": "516fd5c8-776e-4d91-ce01-62bad0322a5a"
      },
      "cell_type": "code",
      "source": [
        "#first few images of test set\n",
        "images = data.x_test[0:9]\n",
        "#get true classes of those images\n",
        "cls_true = data.y_test_cls[0:9]\n",
        "plot_images(images, cls_true)"
      ],
      "execution_count": 42,
      "outputs": [
        {
          "output_type": "display_data",
          "data": {
            "image/png": "[encoded data removed]",
            "text/plain": [
              "<matplotlib.figure.Figure at 0x7f631dc364a8>"
            ]
          },
          "metadata": {
            "tags": []
          }
        }
      ]
    },
    {
      "metadata": {
        "id": "zeRtp521gSju",
        "colab_type": "text"
      },
      "cell_type": "markdown",
      "source": [
        "##TensorFlow graph\n",
        "\n",
        "* Placeholder variables used to feed input into the graph.\n",
        "* Model variables that are going to be optimized so as to make the model perform better."
      ]
    },
    {
      "metadata": {
        "id": "i8BwZeLoyGbL",
        "colab_type": "text"
      },
      "cell_type": "markdown",
      "source": [
        "###Placeholder variable"
      ]
    },
    {
      "metadata": {
        "id": "fDsEKIaC7FCO",
        "colab_type": "code",
        "colab": {}
      },
      "cell_type": "code",
      "source": [
        "# placeholder variables\n",
        "# input features\n",
        "x = tf.placeholder(tf.float32, [None, img_size_flat])\n",
        "# true class (one hot encoding)\n",
        "y_true = tf.placeholder(tf.float32, [None, num_classes])\n",
        "# true class\n",
        "y_true_cls = tf.placeholder(tf.int64, [None])"
      ],
      "execution_count": 0,
      "outputs": []
    },
    {
      "metadata": {
        "id": "2HiRWT4rrgWf",
        "colab_type": "text"
      },
      "cell_type": "markdown",
      "source": [
        "### Model Variables\n",
        "* Variables which are needed to be optimized. (Weight and biases)"
      ]
    },
    {
      "metadata": {
        "id": "qN81oWn9rvtE",
        "colab_type": "code",
        "colab": {}
      },
      "cell_type": "code",
      "source": [
        "weights = tf.Variable(tf.zeros([img_size_flat, num_classes]))\n",
        "biases = tf.Variable(tf.zeros([num_classes]))"
      ],
      "execution_count": 0,
      "outputs": []
    },
    {
      "metadata": {
        "id": "m8_jSFqHxyn0",
        "colab_type": "text"
      },
      "cell_type": "markdown",
      "source": [
        "###Model"
      ]
    },
    {
      "metadata": {
        "id": "xbWO37d4xsMX",
        "colab_type": "code",
        "colab": {}
      },
      "cell_type": "code",
      "source": [
        "#linear model\n",
        "logits = tf.matmul(x, weights) + biases\n",
        "y_pred = tf.nn.softmax(logits)\n",
        "y_pred_cls = tf.argmax(y_pred, axis=1)"
      ],
      "execution_count": 0,
      "outputs": []
    },
    {
      "metadata": {
        "id": "7mC_-Fmx_TJ4",
        "colab_type": "text"
      },
      "cell_type": "markdown",
      "source": [
        "###Cost function"
      ]
    },
    {
      "metadata": {
        "id": "R1DXgG4V1EtH",
        "colab_type": "code",
        "colab": {}
      },
      "cell_type": "code",
      "source": [
        "#cross entropy loss for each input images\n",
        "cross_entropy = tf.nn.softmax_cross_entropy_with_logits_v2(logits=logits,\n",
        "                                                               labels=y_true)\n",
        "# average of all loss\n",
        "cost = tf.reduce_mean(cross_entropy)"
      ],
      "execution_count": 0,
      "outputs": []
    },
    {
      "metadata": {
        "id": "VbLd6cYwDe9J",
        "colab_type": "text"
      },
      "cell_type": "markdown",
      "source": [
        "###Optimization"
      ]
    },
    {
      "metadata": {
        "id": "kkysPPJIDVqk",
        "colab_type": "code",
        "colab": {}
      },
      "cell_type": "code",
      "source": [
        "optimizer = tf.train.GradientDescentOptimizer(learning_rate=0.5).minimize(cost)"
      ],
      "execution_count": 0,
      "outputs": []
    },
    {
      "metadata": {
        "id": "F6ipbvu3EbWb",
        "colab_type": "text"
      },
      "cell_type": "markdown",
      "source": [
        "###Accuracy"
      ]
    },
    {
      "metadata": {
        "id": "FZNXswugEdJd",
        "colab_type": "code",
        "colab": {}
      },
      "cell_type": "code",
      "source": [
        "# vector of booleans\n",
        "correct_prediction = tf.equal(y_pred_cls, y_true_cls)\n",
        "# cast booleans to float and calculate mean to find accuracy\n",
        "accuracy = tf.reduce_mean(tf.cast(correct_prediction, tf.float32))"
      ],
      "execution_count": 0,
      "outputs": []
    },
    {
      "metadata": {
        "id": "bIGF7-UqGwhb",
        "colab_type": "text"
      },
      "cell_type": "markdown",
      "source": [
        "## Execute Graph"
      ]
    },
    {
      "metadata": {
        "id": "4PlaS40cG_yU",
        "colab_type": "text"
      },
      "cell_type": "markdown",
      "source": [
        "###Create TensorFlow session"
      ]
    },
    {
      "metadata": {
        "id": "iSzY5aYWE5PU",
        "colab_type": "code",
        "colab": {}
      },
      "cell_type": "code",
      "source": [
        "sess = tf.Session()"
      ],
      "execution_count": 0,
      "outputs": []
    },
    {
      "metadata": {
        "id": "pEdm3Z-eHUHK",
        "colab_type": "text"
      },
      "cell_type": "markdown",
      "source": [
        "###Initalize variables"
      ]
    },
    {
      "metadata": {
        "id": "ZgYLsvAmHKcA",
        "colab_type": "code",
        "colab": {}
      },
      "cell_type": "code",
      "source": [
        "sess.run(tf.global_variables_initializer())"
      ],
      "execution_count": 0,
      "outputs": []
    },
    {
      "metadata": {
        "id": "w1k_oGt_KwvV",
        "colab_type": "text"
      },
      "cell_type": "markdown",
      "source": [
        "###Optimization iteration"
      ]
    },
    {
      "metadata": {
        "id": "E_22yXUtKSEP",
        "colab_type": "code",
        "colab": {}
      },
      "cell_type": "code",
      "source": [
        "# function for stochastic gradient descent\n",
        "batch_size = 256\n",
        "def optimize(num_iterations):\n",
        "    for i in range(num_iterations):\n",
        "      x_batch, y_true_batch, _ = data.random_batch(batch_size=batch_size)\n",
        "      feed_dict_train = {x: x_batch, y_true: y_true_batch}\n",
        "      sess.run(optimizer, feed_dict=feed_dict_train)"
      ],
      "execution_count": 0,
      "outputs": []
    },
    {
      "metadata": {
        "id": "D1nV6hLlUYVu",
        "colab_type": "code",
        "colab": {}
      },
      "cell_type": "code",
      "source": [
        "# feed_dict for test data for evaluation\n",
        "feed_dict_test = {x: data.x_test,\n",
        "                  y_true: data.y_test,\n",
        "                  y_true_cls: data.y_test_cls}"
      ],
      "execution_count": 0,
      "outputs": []
    },
    {
      "metadata": {
        "id": "KNlx_A3JYfr7",
        "colab_type": "code",
        "colab": {}
      },
      "cell_type": "code",
      "source": [
        "def print_accuracy():\n",
        "    # Use TensorFlow to compute the accuracy.\n",
        "    acc = sess.run(accuracy, feed_dict=feed_dict_test)\n",
        "    \n",
        "    # Print the accuracy.\n",
        "    print(\"Accuracy on test-set: {0:.1%}\".format(acc))"
      ],
      "execution_count": 0,
      "outputs": []
    },
    {
      "metadata": {
        "id": "tbMcI7xvZpem",
        "colab_type": "text"
      },
      "cell_type": "markdown",
      "source": [
        "##Performance of model"
      ]
    },
    {
      "metadata": {
        "id": "E080sPWcZPTD",
        "colab_type": "code",
        "colab": {
          "base_uri": "https://localhost:8080/",
          "height": 34
        },
        "outputId": "22b705e1-9ff1-4a57-8a64-bd94a75a2359"
      },
      "cell_type": "code",
      "source": [
        "# accuracy before any optimization\n",
        "print_accuracy()"
      ],
      "execution_count": 89,
      "outputs": [
        {
          "output_type": "stream",
          "text": [
            "Accuracy on test-set: 92.1%\n"
          ],
          "name": "stdout"
        }
      ]
    },
    {
      "metadata": {
        "id": "H-05Pad6caaZ",
        "colab_type": "text"
      },
      "cell_type": "markdown",
      "source": [
        "###After 1000 iterations"
      ]
    },
    {
      "metadata": {
        "id": "RTo798PxZdi1",
        "colab_type": "code",
        "colab": {
          "base_uri": "https://localhost:8080/",
          "height": 34
        },
        "outputId": "1a869ea0-51ea-4a70-fc9a-9537eb8b800a"
      },
      "cell_type": "code",
      "source": [
        "optimize(num_iterations=1000)\n",
        "print_accuracy()"
      ],
      "execution_count": 90,
      "outputs": [
        {
          "output_type": "stream",
          "text": [
            "Accuracy on test-set: 92.3%\n"
          ],
          "name": "stdout"
        }
      ]
    },
    {
      "metadata": {
        "id": "4op2QFdkaiuh",
        "colab_type": "code",
        "colab": {}
      },
      "cell_type": "code",
      "source": [
        ""
      ],
      "execution_count": 0,
      "outputs": []
    }
  ]
}